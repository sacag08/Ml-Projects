{
 "cells": [
  {
   "cell_type": "code",
   "execution_count": 1,
   "id": "25423a93",
   "metadata": {
    "_cell_guid": "b1076dfc-b9ad-4769-8c92-a6c4dae69d19",
    "_uuid": "8f2839f25d086af736a60e9eeb907d3b93b6e0e5",
    "execution": {
     "iopub.execute_input": "2024-04-01T04:33:21.591327Z",
     "iopub.status.busy": "2024-04-01T04:33:21.590950Z",
     "iopub.status.idle": "2024-04-01T04:33:22.306376Z",
     "shell.execute_reply": "2024-04-01T04:33:22.304210Z"
    },
    "papermill": {
     "duration": 0.734102,
     "end_time": "2024-04-01T04:33:22.308486",
     "exception": false,
     "start_time": "2024-04-01T04:33:21.574384",
     "status": "completed"
    },
    "tags": []
   },
   "outputs": [
    {
     "name": "stdout",
     "output_type": "stream",
     "text": [
      "/kaggle/input/recipe-for-rating-predict-food-ratings-using-ml/sample.csv\n",
      "/kaggle/input/recipe-for-rating-predict-food-ratings-using-ml/train.csv\n",
      "/kaggle/input/recipe-for-rating-predict-food-ratings-using-ml/test.csv\n"
     ]
    }
   ],
   "source": [
    "# This Python 3 environment comes with many helpful analytics libraries installed\n",
    "# It is defined by the kaggle/python Docker image: https://github.com/kaggle/docker-python\n",
    "# For example, here's several helpful packages to load\n",
    "\n",
    "import numpy as np # linear algebra\n",
    "import pandas as pd # data processing, CSV file I/O (e.g. pd.read_csv)\n",
    "\n",
    "# Input data files are available in the read-only \"../input/\" directory\n",
    "# For example, running this (by clicking run or pressing Shift+Enter) will list all files under the input directory\n",
    "\n",
    "import os\n",
    "for dirname, _, filenames in os.walk('/kaggle/input'):\n",
    "    for filename in filenames:\n",
    "        print(os.path.join(dirname, filename))\n",
    "\n",
    "# You can write up to 20GB to the current directory (/kaggle/working/) that gets preserved as output when you create a version using \"Save & Run All\" \n",
    "# You can also write temporary files to /kaggle/temp/, but they won't be saved outside of the current session"
   ]
  },
  {
   "cell_type": "code",
   "execution_count": 2,
   "id": "95346ea8",
   "metadata": {
    "execution": {
     "iopub.execute_input": "2024-04-01T04:33:22.339062Z",
     "iopub.status.busy": "2024-04-01T04:33:22.338445Z",
     "iopub.status.idle": "2024-04-01T04:33:25.030602Z",
     "shell.execute_reply": "2024-04-01T04:33:25.029510Z"
    },
    "papermill": {
     "duration": 2.710152,
     "end_time": "2024-04-01T04:33:25.033223",
     "exception": false,
     "start_time": "2024-04-01T04:33:22.323071",
     "status": "completed"
    },
    "tags": []
   },
   "outputs": [],
   "source": [
    "import matplotlib.pyplot as plt\n",
    "import seaborn as sns\n",
    "import sklearn\n",
    "from sklearn.model_selection import train_test_split\n",
    "from sklearn.preprocessing import LabelEncoder, StandardScaler, MinMaxScaler, OneHotEncoder\n",
    "from sklearn.linear_model import LogisticRegression\n",
    "from sklearn.metrics import accuracy_score,classification_report,confusion_matrix,ConfusionMatrixDisplay\n",
    "from sklearn.feature_extraction.text import TfidfVectorizer\n",
    "from sklearn.model_selection import cross_val_score,GridSearchCV, KFold, StratifiedKFold\n",
    "from sklearn.model_selection import RepeatedStratifiedKFold\n",
    "from sklearn.pipeline import Pipeline\n",
    "from sklearn.compose import ColumnTransformer\n",
    "from sklearn.linear_model import LogisticRegression, SGDClassifier\n",
    "from sklearn.tree import DecisionTreeClassifier\n",
    "from sklearn.svm import SVC\n",
    "from sklearn.ensemble import RandomForestClassifier\n",
    "from sklearn.feature_selection import SelectKBest\n",
    "from sklearn.feature_selection import chi2\n",
    "from xgboost.sklearn import XGBClassifier\n",
    "from lightgbm import LGBMClassifier\n",
    "from sklearn.decomposition import PCA, TruncatedSVD"
   ]
  },
  {
   "cell_type": "markdown",
   "id": "27e0ee46",
   "metadata": {
    "papermill": {
     "duration": 0.013872,
     "end_time": "2024-04-01T04:33:25.062765",
     "exception": false,
     "start_time": "2024-04-01T04:33:25.048893",
     "status": "completed"
    },
    "tags": []
   },
   "source": [
    "# Data Loading"
   ]
  },
  {
   "cell_type": "code",
   "execution_count": 3,
   "id": "bae9c53e",
   "metadata": {
    "execution": {
     "iopub.execute_input": "2024-04-01T04:33:25.093091Z",
     "iopub.status.busy": "2024-04-01T04:33:25.092553Z",
     "iopub.status.idle": "2024-04-01T04:33:25.302394Z",
     "shell.execute_reply": "2024-04-01T04:33:25.301424Z"
    },
    "papermill": {
     "duration": 0.227764,
     "end_time": "2024-04-01T04:33:25.304704",
     "exception": false,
     "start_time": "2024-04-01T04:33:25.076940",
     "status": "completed"
    },
    "tags": []
   },
   "outputs": [],
   "source": [
    "df = pd.read_csv('/kaggle/input/recipe-for-rating-predict-food-ratings-using-ml/train.csv')\n",
    "testdf = pd.read_csv('/kaggle/input/recipe-for-rating-predict-food-ratings-using-ml/test.csv')"
   ]
  },
  {
   "cell_type": "markdown",
   "id": "2a907605",
   "metadata": {
    "papermill": {
     "duration": 0.014202,
     "end_time": "2024-04-01T04:33:25.333563",
     "exception": false,
     "start_time": "2024-04-01T04:33:25.319361",
     "status": "completed"
    },
    "tags": []
   },
   "source": [
    "# EDA"
   ]
  },
  {
   "cell_type": "code",
   "execution_count": 4,
   "id": "377ea34c",
   "metadata": {
    "execution": {
     "iopub.execute_input": "2024-04-01T04:33:25.364057Z",
     "iopub.status.busy": "2024-04-01T04:33:25.363245Z",
     "iopub.status.idle": "2024-04-01T04:33:25.382973Z",
     "shell.execute_reply": "2024-04-01T04:33:25.382227Z"
    },
    "papermill": {
     "duration": 0.036947,
     "end_time": "2024-04-01T04:33:25.384777",
     "exception": false,
     "start_time": "2024-04-01T04:33:25.347830",
     "status": "completed"
    },
    "tags": []
   },
   "outputs": [
    {
     "data": {
      "text/html": [
       "<div>\n",
       "<style scoped>\n",
       "    .dataframe tbody tr th:only-of-type {\n",
       "        vertical-align: middle;\n",
       "    }\n",
       "\n",
       "    .dataframe tbody tr th {\n",
       "        vertical-align: top;\n",
       "    }\n",
       "\n",
       "    .dataframe thead th {\n",
       "        text-align: right;\n",
       "    }\n",
       "</style>\n",
       "<table border=\"1\" class=\"dataframe\">\n",
       "  <thead>\n",
       "    <tr style=\"text-align: right;\">\n",
       "      <th></th>\n",
       "      <th>ID</th>\n",
       "      <th>RecipeNumber</th>\n",
       "      <th>RecipeCode</th>\n",
       "      <th>RecipeName</th>\n",
       "      <th>CommentID</th>\n",
       "      <th>UserID</th>\n",
       "      <th>UserName</th>\n",
       "      <th>UserReputation</th>\n",
       "      <th>CreationTimestamp</th>\n",
       "      <th>ReplyCount</th>\n",
       "      <th>ThumbsUpCount</th>\n",
       "      <th>ThumbsDownCount</th>\n",
       "      <th>Rating</th>\n",
       "      <th>BestScore</th>\n",
       "      <th>Recipe_Review</th>\n",
       "    </tr>\n",
       "  </thead>\n",
       "  <tbody>\n",
       "    <tr>\n",
       "      <th>0</th>\n",
       "      <td>70</td>\n",
       "      <td>71</td>\n",
       "      <td>12259</td>\n",
       "      <td>Banana Bars with Cream Cheese Frosting</td>\n",
       "      <td>sp_aUSaElGf_12259_c_149978</td>\n",
       "      <td>u_1oKVaBmiEKwAFyiHrDLoWpbel0J</td>\n",
       "      <td>misscoffeepot</td>\n",
       "      <td>20</td>\n",
       "      <td>1622717078</td>\n",
       "      <td>0</td>\n",
       "      <td>0</td>\n",
       "      <td>0</td>\n",
       "      <td>5</td>\n",
       "      <td>100</td>\n",
       "      <td>great recipe! I have made them just as written...</td>\n",
       "    </tr>\n",
       "    <tr>\n",
       "      <th>1</th>\n",
       "      <td>72</td>\n",
       "      <td>88</td>\n",
       "      <td>8202</td>\n",
       "      <td>Simple Taco Soup</td>\n",
       "      <td>sp_aUSaElGf_8202_c_310332</td>\n",
       "      <td>u_1oKZeRIXYzGNhGW8OMR3O4lX1ih</td>\n",
       "      <td>MichelleMalone</td>\n",
       "      <td>1</td>\n",
       "      <td>1622717852</td>\n",
       "      <td>0</td>\n",
       "      <td>0</td>\n",
       "      <td>1</td>\n",
       "      <td>5</td>\n",
       "      <td>100</td>\n",
       "      <td>This is an easy and quick recipe that is great...</td>\n",
       "    </tr>\n",
       "    <tr>\n",
       "      <th>2</th>\n",
       "      <td>458</td>\n",
       "      <td>3</td>\n",
       "      <td>2832</td>\n",
       "      <td>Cheeseburger Soup</td>\n",
       "      <td>sp_aUSaElGf_2832_c_206522</td>\n",
       "      <td>u_1oKYHUtdaD48KJCDYq5wfpAUxWz</td>\n",
       "      <td>jeannem32</td>\n",
       "      <td>1</td>\n",
       "      <td>1622717357</td>\n",
       "      <td>0</td>\n",
       "      <td>0</td>\n",
       "      <td>0</td>\n",
       "      <td>3</td>\n",
       "      <td>100</td>\n",
       "      <td>I think I was looking for something extra spec...</td>\n",
       "    </tr>\n",
       "    <tr>\n",
       "      <th>3</th>\n",
       "      <td>7</td>\n",
       "      <td>50</td>\n",
       "      <td>100276</td>\n",
       "      <td>Grilled Huli Huli Chicken</td>\n",
       "      <td>sp_aUSaElGf_100276_c_434088</td>\n",
       "      <td>u_1oKZCQcKQZdQhDVBS7oISc216VA</td>\n",
       "      <td>ds422</td>\n",
       "      <td>1</td>\n",
       "      <td>1622648899</td>\n",
       "      <td>0</td>\n",
       "      <td>0</td>\n",
       "      <td>0</td>\n",
       "      <td>5</td>\n",
       "      <td>100</td>\n",
       "      <td>This is our favorite grilled chicken recipe.  ...</td>\n",
       "    </tr>\n",
       "    <tr>\n",
       "      <th>4</th>\n",
       "      <td>60</td>\n",
       "      <td>12</td>\n",
       "      <td>19731</td>\n",
       "      <td>Cauliflower Soup</td>\n",
       "      <td>sp_aUSaElGf_19731_c_387011</td>\n",
       "      <td>u_1oKd4sudZQPgu6YALiC7bW7mKMs</td>\n",
       "      <td>SusanHoward</td>\n",
       "      <td>1</td>\n",
       "      <td>1622718260</td>\n",
       "      <td>0</td>\n",
       "      <td>0</td>\n",
       "      <td>0</td>\n",
       "      <td>4</td>\n",
       "      <td>100</td>\n",
       "      <td>Great basic recipe. I added 2 teaspoons Tuscan...</td>\n",
       "    </tr>\n",
       "  </tbody>\n",
       "</table>\n",
       "</div>"
      ],
      "text/plain": [
       "    ID  RecipeNumber  RecipeCode                              RecipeName  \\\n",
       "0   70            71       12259  Banana Bars with Cream Cheese Frosting   \n",
       "1   72            88        8202                        Simple Taco Soup   \n",
       "2  458             3        2832                       Cheeseburger Soup   \n",
       "3    7            50      100276               Grilled Huli Huli Chicken   \n",
       "4   60            12       19731                        Cauliflower Soup   \n",
       "\n",
       "                     CommentID                         UserID        UserName  \\\n",
       "0   sp_aUSaElGf_12259_c_149978  u_1oKVaBmiEKwAFyiHrDLoWpbel0J   misscoffeepot   \n",
       "1    sp_aUSaElGf_8202_c_310332  u_1oKZeRIXYzGNhGW8OMR3O4lX1ih  MichelleMalone   \n",
       "2    sp_aUSaElGf_2832_c_206522  u_1oKYHUtdaD48KJCDYq5wfpAUxWz       jeannem32   \n",
       "3  sp_aUSaElGf_100276_c_434088  u_1oKZCQcKQZdQhDVBS7oISc216VA           ds422   \n",
       "4   sp_aUSaElGf_19731_c_387011  u_1oKd4sudZQPgu6YALiC7bW7mKMs     SusanHoward   \n",
       "\n",
       "   UserReputation  CreationTimestamp  ReplyCount  ThumbsUpCount  \\\n",
       "0              20         1622717078           0              0   \n",
       "1               1         1622717852           0              0   \n",
       "2               1         1622717357           0              0   \n",
       "3               1         1622648899           0              0   \n",
       "4               1         1622718260           0              0   \n",
       "\n",
       "   ThumbsDownCount  Rating  BestScore  \\\n",
       "0                0       5        100   \n",
       "1                1       5        100   \n",
       "2                0       3        100   \n",
       "3                0       5        100   \n",
       "4                0       4        100   \n",
       "\n",
       "                                       Recipe_Review  \n",
       "0  great recipe! I have made them just as written...  \n",
       "1  This is an easy and quick recipe that is great...  \n",
       "2  I think I was looking for something extra spec...  \n",
       "3  This is our favorite grilled chicken recipe.  ...  \n",
       "4  Great basic recipe. I added 2 teaspoons Tuscan...  "
      ]
     },
     "execution_count": 4,
     "metadata": {},
     "output_type": "execute_result"
    }
   ],
   "source": [
    "df.head()"
   ]
  },
  {
   "cell_type": "code",
   "execution_count": 5,
   "id": "d19f1351",
   "metadata": {
    "execution": {
     "iopub.execute_input": "2024-04-01T04:33:25.415949Z",
     "iopub.status.busy": "2024-04-01T04:33:25.415434Z",
     "iopub.status.idle": "2024-04-01T04:33:25.439892Z",
     "shell.execute_reply": "2024-04-01T04:33:25.439170Z"
    },
    "papermill": {
     "duration": 0.042657,
     "end_time": "2024-04-01T04:33:25.442095",
     "exception": false,
     "start_time": "2024-04-01T04:33:25.399438",
     "status": "completed"
    },
    "tags": []
   },
   "outputs": [
    {
     "name": "stdout",
     "output_type": "stream",
     "text": [
      "<class 'pandas.core.frame.DataFrame'>\n",
      "RangeIndex: 13636 entries, 0 to 13635\n",
      "Data columns (total 15 columns):\n",
      " #   Column             Non-Null Count  Dtype \n",
      "---  ------             --------------  ----- \n",
      " 0   ID                 13636 non-null  int64 \n",
      " 1   RecipeNumber       13636 non-null  int64 \n",
      " 2   RecipeCode         13636 non-null  int64 \n",
      " 3   RecipeName         13636 non-null  object\n",
      " 4   CommentID          13636 non-null  object\n",
      " 5   UserID             13636 non-null  object\n",
      " 6   UserName           13636 non-null  object\n",
      " 7   UserReputation     13636 non-null  int64 \n",
      " 8   CreationTimestamp  13636 non-null  int64 \n",
      " 9   ReplyCount         13636 non-null  int64 \n",
      " 10  ThumbsUpCount      13636 non-null  int64 \n",
      " 11  ThumbsDownCount    13636 non-null  int64 \n",
      " 12  Rating             13636 non-null  int64 \n",
      " 13  BestScore          13636 non-null  int64 \n",
      " 14  Recipe_Review      13634 non-null  object\n",
      "dtypes: int64(10), object(5)\n",
      "memory usage: 1.6+ MB\n"
     ]
    }
   ],
   "source": [
    "df.info() # there are 2 null values in Recipe_Review colulmn"
   ]
  },
  {
   "cell_type": "code",
   "execution_count": 6,
   "id": "cd3ef506",
   "metadata": {
    "execution": {
     "iopub.execute_input": "2024-04-01T04:33:25.479800Z",
     "iopub.status.busy": "2024-04-01T04:33:25.479424Z",
     "iopub.status.idle": "2024-04-01T04:33:25.508147Z",
     "shell.execute_reply": "2024-04-01T04:33:25.507049Z"
    },
    "papermill": {
     "duration": 0.046968,
     "end_time": "2024-04-01T04:33:25.510457",
     "exception": false,
     "start_time": "2024-04-01T04:33:25.463489",
     "status": "completed"
    },
    "tags": []
   },
   "outputs": [],
   "source": [
    "df.describe()\n",
    "num = ['ID','RecipeNumber','RecipeCode','UserReputation','CreationTimestamp','ReplyCount','ThumbsUpCount','ThumbsDownCount','Rating','BestScore']"
   ]
  },
  {
   "cell_type": "code",
   "execution_count": 7,
   "id": "fbde46cb",
   "metadata": {
    "execution": {
     "iopub.execute_input": "2024-04-01T04:33:25.541564Z",
     "iopub.status.busy": "2024-04-01T04:33:25.541201Z",
     "iopub.status.idle": "2024-04-01T04:33:25.550255Z",
     "shell.execute_reply": "2024-04-01T04:33:25.549349Z"
    },
    "papermill": {
     "duration": 0.026903,
     "end_time": "2024-04-01T04:33:25.552263",
     "exception": false,
     "start_time": "2024-04-01T04:33:25.525360",
     "status": "completed"
    },
    "tags": []
   },
   "outputs": [
    {
     "data": {
      "text/plain": [
       "Rating\n",
       "5    10371\n",
       "0     1272\n",
       "4     1241\n",
       "3      368\n",
       "1      210\n",
       "2      174\n",
       "Name: count, dtype: int64"
      ]
     },
     "execution_count": 7,
     "metadata": {},
     "output_type": "execute_result"
    }
   ],
   "source": [
    "df['Rating'].value_counts() # distribution of target variable : The Target class is highly imbalanced"
   ]
  },
  {
   "cell_type": "code",
   "execution_count": 8,
   "id": "40622b28",
   "metadata": {
    "execution": {
     "iopub.execute_input": "2024-04-01T04:33:25.582839Z",
     "iopub.status.busy": "2024-04-01T04:33:25.582506Z",
     "iopub.status.idle": "2024-04-01T04:33:26.636594Z",
     "shell.execute_reply": "2024-04-01T04:33:26.635609Z"
    },
    "papermill": {
     "duration": 1.071775,
     "end_time": "2024-04-01T04:33:26.638671",
     "exception": false,
     "start_time": "2024-04-01T04:33:25.566896",
     "status": "completed"
    },
    "tags": []
   },
   "outputs": [
    {
     "data": {
      "text/plain": [
       "<Axes: xlabel='RecipeNumber', ylabel='count'>"
      ]
     },
     "execution_count": 8,
     "metadata": {},
     "output_type": "execute_result"
    },
    {
     "data": {
      "image/png": "[encoded data removed]",
      "text/plain": [
       "<Figure size 640x480 with 1 Axes>"
      ]
     },
     "metadata": {},
     "output_type": "display_data"
    }
   ],
   "source": [
    "df['RecipeNumber'].value_counts() #distrubution of no of reviews based on raning of the Recipe\n",
    "sns.countplot(x=df['RecipeNumber']) # We observer that the top recipies in ranking have large number of reviews and as the rank goes down the reviews also become less"
   ]
  },
  {
   "cell_type": "code",
   "execution_count": 9,
   "id": "664b26e2",
   "metadata": {
    "execution": {
     "iopub.execute_input": "2024-04-01T04:33:26.670862Z",
     "iopub.status.busy": "2024-04-01T04:33:26.670521Z",
     "iopub.status.idle": "2024-04-01T04:33:26.693983Z",
     "shell.execute_reply": "2024-04-01T04:33:26.693036Z"
    },
    "papermill": {
     "duration": 0.041903,
     "end_time": "2024-04-01T04:33:26.696082",
     "exception": false,
     "start_time": "2024-04-01T04:33:26.654179",
     "status": "completed"
    },
    "tags": []
   },
   "outputs": [
    {
     "data": {
      "text/plain": [
       "Rating\n",
       "5    85\n",
       "0    14\n",
       "4    10\n",
       "1     4\n",
       "2     3\n",
       "3     2\n",
       "Name: count, dtype: int64"
      ]
     },
     "execution_count": 9,
     "metadata": {},
     "output_type": "execute_result"
    }
   ],
   "source": [
    "df.value_counts('UserID') #max no of reviews by singele user is 20\n",
    "df.value_counts('UserReputation') #few useres have very high reputation most useres have 1 reputation, There are 118 reviews with 0 user rep. Why?\n",
    "df[df['UserReputation'] == 0]['Rating'].value_counts() #total users with 0 rep = 111"
   ]
  },
  {
   "cell_type": "code",
   "execution_count": 10,
   "id": "c7f01fa7",
   "metadata": {
    "execution": {
     "iopub.execute_input": "2024-04-01T04:33:26.728559Z",
     "iopub.status.busy": "2024-04-01T04:33:26.727998Z",
     "iopub.status.idle": "2024-04-01T04:33:26.797415Z",
     "shell.execute_reply": "2024-04-01T04:33:26.796456Z"
    },
    "papermill": {
     "duration": 0.088148,
     "end_time": "2024-04-01T04:33:26.799675",
     "exception": false,
     "start_time": "2024-04-01T04:33:26.711527",
     "status": "completed"
    },
    "tags": []
   },
   "outputs": [],
   "source": [
    "df['Date'] = df['CreationTimestamp'].apply(lambda x: pd.Timestamp(x,unit='s'))"
   ]
  },
  {
   "cell_type": "code",
   "execution_count": 11,
   "id": "9dea74e9",
   "metadata": {
    "execution": {
     "iopub.execute_input": "2024-04-01T04:33:26.832762Z",
     "iopub.status.busy": "2024-04-01T04:33:26.832212Z",
     "iopub.status.idle": "2024-04-01T04:33:26.839982Z",
     "shell.execute_reply": "2024-04-01T04:33:26.839090Z"
    },
    "papermill": {
     "duration": 0.026268,
     "end_time": "2024-04-01T04:33:26.842035",
     "exception": false,
     "start_time": "2024-04-01T04:33:26.815767",
     "status": "completed"
    },
    "tags": []
   },
   "outputs": [
    {
     "data": {
      "text/plain": [
       "RecipeCode\n",
       "2832     553\n",
       "14299    483\n",
       "3309     372\n",
       "42083    313\n",
       "32480    307\n",
       "        ... \n",
       "35766     68\n",
       "34347     65\n",
       "3683      64\n",
       "1821      64\n",
       "17022     19\n",
       "Name: count, Length: 100, dtype: int64"
      ]
     },
     "execution_count": 11,
     "metadata": {},
     "output_type": "execute_result"
    }
   ],
   "source": [
    "df['RecipeCode'].value_counts()"
   ]
  },
  {
   "cell_type": "code",
   "execution_count": 12,
   "id": "2ef0342f",
   "metadata": {
    "execution": {
     "iopub.execute_input": "2024-04-01T04:33:26.874291Z",
     "iopub.status.busy": "2024-04-01T04:33:26.873984Z",
     "iopub.status.idle": "2024-04-01T04:33:26.896884Z",
     "shell.execute_reply": "2024-04-01T04:33:26.896186Z"
    },
    "papermill": {
     "duration": 0.041247,
     "end_time": "2024-04-01T04:33:26.898687",
     "exception": false,
     "start_time": "2024-04-01T04:33:26.857440",
     "status": "completed"
    },
    "tags": []
   },
   "outputs": [
    {
     "data": {
      "text/html": [
       "<div>\n",
       "<style scoped>\n",
       "    .dataframe tbody tr th:only-of-type {\n",
       "        vertical-align: middle;\n",
       "    }\n",
       "\n",
       "    .dataframe tbody tr th {\n",
       "        vertical-align: top;\n",
       "    }\n",
       "\n",
       "    .dataframe thead th {\n",
       "        text-align: right;\n",
       "    }\n",
       "</style>\n",
       "<table border=\"1\" class=\"dataframe\">\n",
       "  <thead>\n",
       "    <tr style=\"text-align: right;\">\n",
       "      <th></th>\n",
       "      <th>ID</th>\n",
       "      <th>RecipeNumber</th>\n",
       "      <th>RecipeCode</th>\n",
       "      <th>RecipeName</th>\n",
       "      <th>CommentID</th>\n",
       "      <th>UserID</th>\n",
       "      <th>UserName</th>\n",
       "      <th>UserReputation</th>\n",
       "      <th>CreationTimestamp</th>\n",
       "      <th>ReplyCount</th>\n",
       "      <th>ThumbsUpCount</th>\n",
       "      <th>ThumbsDownCount</th>\n",
       "      <th>Rating</th>\n",
       "      <th>BestScore</th>\n",
       "      <th>Recipe_Review</th>\n",
       "      <th>Date</th>\n",
       "    </tr>\n",
       "  </thead>\n",
       "  <tbody>\n",
       "    <tr>\n",
       "      <th>5203</th>\n",
       "      <td>44</td>\n",
       "      <td>3</td>\n",
       "      <td>2832</td>\n",
       "      <td>Cheeseburger Soup</td>\n",
       "      <td>sp_aUSaElGf_2832_c_428456</td>\n",
       "      <td>u_1oKWX4a8A6MMPbGnDbt7LeyC59u</td>\n",
       "      <td>GaryPhillips</td>\n",
       "      <td>10</td>\n",
       "      <td>1630527302</td>\n",
       "      <td>0</td>\n",
       "      <td>7</td>\n",
       "      <td>39</td>\n",
       "      <td>1</td>\n",
       "      <td>34</td>\n",
       "      <td>At a loss how this recipe became a contest win...</td>\n",
       "      <td>2021-09-01 20:15:02</td>\n",
       "    </tr>\n",
       "    <tr>\n",
       "      <th>2</th>\n",
       "      <td>458</td>\n",
       "      <td>3</td>\n",
       "      <td>2832</td>\n",
       "      <td>Cheeseburger Soup</td>\n",
       "      <td>sp_aUSaElGf_2832_c_206522</td>\n",
       "      <td>u_1oKYHUtdaD48KJCDYq5wfpAUxWz</td>\n",
       "      <td>jeannem32</td>\n",
       "      <td>1</td>\n",
       "      <td>1622717357</td>\n",
       "      <td>0</td>\n",
       "      <td>0</td>\n",
       "      <td>0</td>\n",
       "      <td>3</td>\n",
       "      <td>100</td>\n",
       "      <td>I think I was looking for something extra spec...</td>\n",
       "      <td>2021-06-03 10:49:17</td>\n",
       "    </tr>\n",
       "    <tr>\n",
       "      <th>8750</th>\n",
       "      <td>496</td>\n",
       "      <td>3</td>\n",
       "      <td>2832</td>\n",
       "      <td>Cheeseburger Soup</td>\n",
       "      <td>sp_aUSaElGf_2832_c_176966</td>\n",
       "      <td>u_1oKX4RMQcgj0x0LGerTk14pszEG</td>\n",
       "      <td>nmcneal</td>\n",
       "      <td>1</td>\n",
       "      <td>1622717225</td>\n",
       "      <td>0</td>\n",
       "      <td>0</td>\n",
       "      <td>0</td>\n",
       "      <td>5</td>\n",
       "      <td>100</td>\n",
       "      <td>I have made this soup for the family and for c...</td>\n",
       "      <td>2021-06-03 10:47:05</td>\n",
       "    </tr>\n",
       "    <tr>\n",
       "      <th>8730</th>\n",
       "      <td>346</td>\n",
       "      <td>3</td>\n",
       "      <td>2832</td>\n",
       "      <td>Cheeseburger Soup</td>\n",
       "      <td>sp_aUSaElGf_2832_c_180556</td>\n",
       "      <td>u_1oKX2nQsOhOSf25rLzdcVAZ2PDl</td>\n",
       "      <td>funkyla</td>\n",
       "      <td>1</td>\n",
       "      <td>1622717245</td>\n",
       "      <td>0</td>\n",
       "      <td>0</td>\n",
       "      <td>0</td>\n",
       "      <td>5</td>\n",
       "      <td>100</td>\n",
       "      <td>I just made this tonight and it taste great. I...</td>\n",
       "      <td>2021-06-03 10:47:25</td>\n",
       "    </tr>\n",
       "    <tr>\n",
       "      <th>8716</th>\n",
       "      <td>712</td>\n",
       "      <td>3</td>\n",
       "      <td>2832</td>\n",
       "      <td>Cheeseburger Soup</td>\n",
       "      <td>sp_aUSaElGf_2832_c_362374</td>\n",
       "      <td>u_1oKVaTJc2XK2A8lvPuM3UB0jZY1</td>\n",
       "      <td>nvthiele</td>\n",
       "      <td>1</td>\n",
       "      <td>1622718150</td>\n",
       "      <td>0</td>\n",
       "      <td>0</td>\n",
       "      <td>0</td>\n",
       "      <td>5</td>\n",
       "      <td>100</td>\n",
       "      <td>We enjoy this recipe but felt the cheese conte...</td>\n",
       "      <td>2021-06-03 11:02:30</td>\n",
       "    </tr>\n",
       "    <tr>\n",
       "      <th>...</th>\n",
       "      <td>...</td>\n",
       "      <td>...</td>\n",
       "      <td>...</td>\n",
       "      <td>...</td>\n",
       "      <td>...</td>\n",
       "      <td>...</td>\n",
       "      <td>...</td>\n",
       "      <td>...</td>\n",
       "      <td>...</td>\n",
       "      <td>...</td>\n",
       "      <td>...</td>\n",
       "      <td>...</td>\n",
       "      <td>...</td>\n",
       "      <td>...</td>\n",
       "      <td>...</td>\n",
       "      <td>...</td>\n",
       "    </tr>\n",
       "    <tr>\n",
       "      <th>7858</th>\n",
       "      <td>28</td>\n",
       "      <td>3</td>\n",
       "      <td>2832</td>\n",
       "      <td>Cheeseburger Soup</td>\n",
       "      <td>sp_aUSaElGf_2832_c_1xmTfleOfAP8S6elIch5UpuiI2T</td>\n",
       "      <td>u_Rhl9Bx3Gwnvm</td>\n",
       "      <td>cwbuff2</td>\n",
       "      <td>1</td>\n",
       "      <td>1630959369</td>\n",
       "      <td>0</td>\n",
       "      <td>35</td>\n",
       "      <td>0</td>\n",
       "      <td>4</td>\n",
       "      <td>828</td>\n",
       "      <td>I see some reviews by the inevitable health na...</td>\n",
       "      <td>2021-09-06 20:16:09</td>\n",
       "    </tr>\n",
       "    <tr>\n",
       "      <th>11028</th>\n",
       "      <td>18</td>\n",
       "      <td>3</td>\n",
       "      <td>2832</td>\n",
       "      <td>Cheeseburger Soup</td>\n",
       "      <td>sp_aUSaElGf_2832_c_246uLQ6MDmZo1Ji68gWRnfKoiUY</td>\n",
       "      <td>u_F7qQvdhfuhfG</td>\n",
       "      <td>Val460</td>\n",
       "      <td>1</td>\n",
       "      <td>1642963300</td>\n",
       "      <td>0</td>\n",
       "      <td>15</td>\n",
       "      <td>1</td>\n",
       "      <td>5</td>\n",
       "      <td>835</td>\n",
       "      <td>Made this for our Football Sunday in Snowy Ups...</td>\n",
       "      <td>2022-01-23 18:41:40</td>\n",
       "    </tr>\n",
       "    <tr>\n",
       "      <th>3921</th>\n",
       "      <td>4</td>\n",
       "      <td>3</td>\n",
       "      <td>2832</td>\n",
       "      <td>Cheeseburger Soup</td>\n",
       "      <td>sp_aUSaElGf_2832_c_2EYJhFS6QZik7CC30jaDSEJCTaA</td>\n",
       "      <td>u_PbObJrhRttq3</td>\n",
       "      <td>James569</td>\n",
       "      <td>1</td>\n",
       "      <td>1662766701</td>\n",
       "      <td>0</td>\n",
       "      <td>12</td>\n",
       "      <td>0</td>\n",
       "      <td>5</td>\n",
       "      <td>848</td>\n",
       "      <td>&lt;p&gt;I downloaded this recipe after recently rec...</td>\n",
       "      <td>2022-09-09 23:38:21</td>\n",
       "    </tr>\n",
       "    <tr>\n",
       "      <th>4686</th>\n",
       "      <td>29</td>\n",
       "      <td>3</td>\n",
       "      <td>2832</td>\n",
       "      <td>Cheeseburger Soup</td>\n",
       "      <td>sp_aUSaElGf_2832_c_1xETpSVM9yR69ApipJFaCeraf5k</td>\n",
       "      <td>u_pTSG77yt7Ax9</td>\n",
       "      <td>CJR58</td>\n",
       "      <td>1</td>\n",
       "      <td>1629919430</td>\n",
       "      <td>0</td>\n",
       "      <td>69</td>\n",
       "      <td>9</td>\n",
       "      <td>5</td>\n",
       "      <td>863</td>\n",
       "      <td>This looks delicious.  If I want to make it in...</td>\n",
       "      <td>2021-08-25 19:23:50</td>\n",
       "    </tr>\n",
       "    <tr>\n",
       "      <th>10124</th>\n",
       "      <td>15</td>\n",
       "      <td>3</td>\n",
       "      <td>2832</td>\n",
       "      <td>Cheeseburger Soup</td>\n",
       "      <td>sp_aUSaElGf_2832_c_24YuhGmcHjbhNjPBO7wwzOtowd1</td>\n",
       "      <td>u_j6XdnbRT1vtZ</td>\n",
       "      <td>Joan9859</td>\n",
       "      <td>1</td>\n",
       "      <td>1643819958</td>\n",
       "      <td>0</td>\n",
       "      <td>36</td>\n",
       "      <td>1</td>\n",
       "      <td>5</td>\n",
       "      <td>928</td>\n",
       "      <td>Very good! To save using an extra pan, I did n...</td>\n",
       "      <td>2022-02-02 16:39:18</td>\n",
       "    </tr>\n",
       "  </tbody>\n",
       "</table>\n",
       "<p>553 rows × 16 columns</p>\n",
       "</div>"
      ],
      "text/plain": [
       "        ID  RecipeNumber  RecipeCode         RecipeName  \\\n",
       "5203    44             3        2832  Cheeseburger Soup   \n",
       "2      458             3        2832  Cheeseburger Soup   \n",
       "8750   496             3        2832  Cheeseburger Soup   \n",
       "8730   346             3        2832  Cheeseburger Soup   \n",
       "8716   712             3        2832  Cheeseburger Soup   \n",
       "...    ...           ...         ...                ...   \n",
       "7858    28             3        2832  Cheeseburger Soup   \n",
       "11028   18             3        2832  Cheeseburger Soup   \n",
       "3921     4             3        2832  Cheeseburger Soup   \n",
       "4686    29             3        2832  Cheeseburger Soup   \n",
       "10124   15             3        2832  Cheeseburger Soup   \n",
       "\n",
       "                                            CommentID  \\\n",
       "5203                        sp_aUSaElGf_2832_c_428456   \n",
       "2                           sp_aUSaElGf_2832_c_206522   \n",
       "8750                        sp_aUSaElGf_2832_c_176966   \n",
       "8730                        sp_aUSaElGf_2832_c_180556   \n",
       "8716                        sp_aUSaElGf_2832_c_362374   \n",
       "...                                               ...   \n",
       "7858   sp_aUSaElGf_2832_c_1xmTfleOfAP8S6elIch5UpuiI2T   \n",
       "11028  sp_aUSaElGf_2832_c_246uLQ6MDmZo1Ji68gWRnfKoiUY   \n",
       "3921   sp_aUSaElGf_2832_c_2EYJhFS6QZik7CC30jaDSEJCTaA   \n",
       "4686   sp_aUSaElGf_2832_c_1xETpSVM9yR69ApipJFaCeraf5k   \n",
       "10124  sp_aUSaElGf_2832_c_24YuhGmcHjbhNjPBO7wwzOtowd1   \n",
       "\n",
       "                              UserID      UserName  UserReputation  \\\n",
       "5203   u_1oKWX4a8A6MMPbGnDbt7LeyC59u  GaryPhillips              10   \n",
       "2      u_1oKYHUtdaD48KJCDYq5wfpAUxWz     jeannem32               1   \n",
       "8750   u_1oKX4RMQcgj0x0LGerTk14pszEG       nmcneal               1   \n",
       "8730   u_1oKX2nQsOhOSf25rLzdcVAZ2PDl       funkyla               1   \n",
       "8716   u_1oKVaTJc2XK2A8lvPuM3UB0jZY1      nvthiele               1   \n",
       "...                              ...           ...             ...   \n",
       "7858                  u_Rhl9Bx3Gwnvm       cwbuff2               1   \n",
       "11028                 u_F7qQvdhfuhfG        Val460               1   \n",
       "3921                  u_PbObJrhRttq3      James569               1   \n",
       "4686                  u_pTSG77yt7Ax9         CJR58               1   \n",
       "10124                 u_j6XdnbRT1vtZ      Joan9859               1   \n",
       "\n",
       "       CreationTimestamp  ReplyCount  ThumbsUpCount  ThumbsDownCount  Rating  \\\n",
       "5203          1630527302           0              7               39       1   \n",
       "2             1622717357           0              0                0       3   \n",
       "8750          1622717225           0              0                0       5   \n",
       "8730          1622717245           0              0                0       5   \n",
       "8716          1622718150           0              0                0       5   \n",
       "...                  ...         ...            ...              ...     ...   \n",
       "7858          1630959369           0             35                0       4   \n",
       "11028         1642963300           0             15                1       5   \n",
       "3921          1662766701           0             12                0       5   \n",
       "4686          1629919430           0             69                9       5   \n",
       "10124         1643819958           0             36                1       5   \n",
       "\n",
       "       BestScore                                      Recipe_Review  \\\n",
       "5203          34  At a loss how this recipe became a contest win...   \n",
       "2            100  I think I was looking for something extra spec...   \n",
       "8750         100  I have made this soup for the family and for c...   \n",
       "8730         100  I just made this tonight and it taste great. I...   \n",
       "8716         100  We enjoy this recipe but felt the cheese conte...   \n",
       "...          ...                                                ...   \n",
       "7858         828  I see some reviews by the inevitable health na...   \n",
       "11028        835  Made this for our Football Sunday in Snowy Ups...   \n",
       "3921         848  <p>I downloaded this recipe after recently rec...   \n",
       "4686         863  This looks delicious.  If I want to make it in...   \n",
       "10124        928  Very good! To save using an extra pan, I did n...   \n",
       "\n",
       "                     Date  \n",
       "5203  2021-09-01 20:15:02  \n",
       "2     2021-06-03 10:49:17  \n",
       "8750  2021-06-03 10:47:05  \n",
       "8730  2021-06-03 10:47:25  \n",
       "8716  2021-06-03 11:02:30  \n",
       "...                   ...  \n",
       "7858  2021-09-06 20:16:09  \n",
       "11028 2022-01-23 18:41:40  \n",
       "3921  2022-09-09 23:38:21  \n",
       "4686  2021-08-25 19:23:50  \n",
       "10124 2022-02-02 16:39:18  \n",
       "\n",
       "[553 rows x 16 columns]"
      ]
     },
     "execution_count": 12,
     "metadata": {},
     "output_type": "execute_result"
    }
   ],
   "source": [
    "df.sort_values('Date') #Data is from 2021-02-11 09:22:16 to 2022-10-14 14:00:35\n",
    "df[df['RecipeCode']==2832].sort_values('BestScore')"
   ]
  },
  {
   "cell_type": "code",
   "execution_count": 13,
   "id": "2ee11254",
   "metadata": {
    "execution": {
     "iopub.execute_input": "2024-04-01T04:33:26.933146Z",
     "iopub.status.busy": "2024-04-01T04:33:26.932564Z",
     "iopub.status.idle": "2024-04-01T04:33:27.121986Z",
     "shell.execute_reply": "2024-04-01T04:33:27.121230Z"
    },
    "papermill": {
     "duration": 0.20939,
     "end_time": "2024-04-01T04:33:27.124214",
     "exception": false,
     "start_time": "2024-04-01T04:33:26.914824",
     "status": "completed"
    },
    "tags": []
   },
   "outputs": [],
   "source": [
    "df['day'] = df['Date'].apply(lambda x : x.day)\n",
    "df['month'] = df['Date'].apply(lambda x : x.month)\n",
    "df['yeay'] = df['Date'].apply(lambda x : x.year)\n",
    "df['time'] = df['Date'].apply(lambda x : x.time().hour)\n",
    "df['dow'] = df['Date'].apply(lambda x : x.weekday())"
   ]
  },
  {
   "cell_type": "code",
   "execution_count": 14,
   "id": "c04bb8dd",
   "metadata": {
    "execution": {
     "iopub.execute_input": "2024-04-01T04:33:27.158270Z",
     "iopub.status.busy": "2024-04-01T04:33:27.157706Z",
     "iopub.status.idle": "2024-04-01T04:33:27.185538Z",
     "shell.execute_reply": "2024-04-01T04:33:27.184574Z"
    },
    "papermill": {
     "duration": 0.047009,
     "end_time": "2024-04-01T04:33:27.187529",
     "exception": false,
     "start_time": "2024-04-01T04:33:27.140520",
     "status": "completed"
    },
    "tags": []
   },
   "outputs": [
    {
     "data": {
      "text/plain": [
       "month\n",
       "1        68\n",
       "2       132\n",
       "3        22\n",
       "4        51\n",
       "5        63\n",
       "6     12891\n",
       "7        71\n",
       "8        75\n",
       "9        99\n",
       "10       81\n",
       "11       42\n",
       "12       41\n",
       "Name: Rating, dtype: int64"
      ]
     },
     "execution_count": 14,
     "metadata": {},
     "output_type": "execute_result"
    }
   ],
   "source": [
    "df.groupby('time').count()['Rating'] # most reviwes are posted between 10 to 11am everyday\n",
    "df.groupby('day').count()['Rating']  # most reviwes are posted on 3rd every month\n",
    "df.groupby('month').count()['Rating'] # most reviwes are posted in June\n",
    "#df.groupby('yeay').count()['Rating'] # most reviwes are posted in 2021"
   ]
  },
  {
   "cell_type": "code",
   "execution_count": 15,
   "id": "29edb88a",
   "metadata": {
    "execution": {
     "iopub.execute_input": "2024-04-01T04:33:27.221232Z",
     "iopub.status.busy": "2024-04-01T04:33:27.220867Z",
     "iopub.status.idle": "2024-04-01T04:33:27.257749Z",
     "shell.execute_reply": "2024-04-01T04:33:27.256789Z"
    },
    "papermill": {
     "duration": 0.055977,
     "end_time": "2024-04-01T04:33:27.259713",
     "exception": false,
     "start_time": "2024-04-01T04:33:27.203736",
     "status": "completed"
    },
    "tags": []
   },
   "outputs": [
    {
     "data": {
      "text/html": [
       "<div>\n",
       "<style scoped>\n",
       "    .dataframe tbody tr th:only-of-type {\n",
       "        vertical-align: middle;\n",
       "    }\n",
       "\n",
       "    .dataframe tbody tr th {\n",
       "        vertical-align: top;\n",
       "    }\n",
       "\n",
       "    .dataframe thead th {\n",
       "        text-align: right;\n",
       "    }\n",
       "</style>\n",
       "<table border=\"1\" class=\"dataframe\">\n",
       "  <thead>\n",
       "    <tr style=\"text-align: right;\">\n",
       "      <th></th>\n",
       "      <th>ID</th>\n",
       "      <th>RecipeNumber</th>\n",
       "      <th>RecipeCode</th>\n",
       "      <th>RecipeName</th>\n",
       "      <th>CommentID</th>\n",
       "      <th>UserID</th>\n",
       "      <th>UserName</th>\n",
       "      <th>UserReputation</th>\n",
       "      <th>CreationTimestamp</th>\n",
       "      <th>ReplyCount</th>\n",
       "      <th>...</th>\n",
       "      <th>ThumbsDownCount</th>\n",
       "      <th>Rating</th>\n",
       "      <th>BestScore</th>\n",
       "      <th>Recipe_Review</th>\n",
       "      <th>Date</th>\n",
       "      <th>day</th>\n",
       "      <th>month</th>\n",
       "      <th>yeay</th>\n",
       "      <th>time</th>\n",
       "      <th>dow</th>\n",
       "    </tr>\n",
       "  </thead>\n",
       "  <tbody>\n",
       "    <tr>\n",
       "      <th>0</th>\n",
       "      <td>70</td>\n",
       "      <td>71</td>\n",
       "      <td>12259</td>\n",
       "      <td>Banana Bars with Cream Cheese Frosting</td>\n",
       "      <td>sp_aUSaElGf_12259_c_149978</td>\n",
       "      <td>u_1oKVaBmiEKwAFyiHrDLoWpbel0J</td>\n",
       "      <td>misscoffeepot</td>\n",
       "      <td>20</td>\n",
       "      <td>1622717078</td>\n",
       "      <td>0</td>\n",
       "      <td>...</td>\n",
       "      <td>0</td>\n",
       "      <td>5</td>\n",
       "      <td>100</td>\n",
       "      <td>great recipe! I have made them just as written...</td>\n",
       "      <td>2021-06-03 10:44:38</td>\n",
       "      <td>3</td>\n",
       "      <td>6</td>\n",
       "      <td>2021</td>\n",
       "      <td>10</td>\n",
       "      <td>3</td>\n",
       "    </tr>\n",
       "    <tr>\n",
       "      <th>1</th>\n",
       "      <td>72</td>\n",
       "      <td>88</td>\n",
       "      <td>8202</td>\n",
       "      <td>Simple Taco Soup</td>\n",
       "      <td>sp_aUSaElGf_8202_c_310332</td>\n",
       "      <td>u_1oKZeRIXYzGNhGW8OMR3O4lX1ih</td>\n",
       "      <td>MichelleMalone</td>\n",
       "      <td>1</td>\n",
       "      <td>1622717852</td>\n",
       "      <td>0</td>\n",
       "      <td>...</td>\n",
       "      <td>1</td>\n",
       "      <td>5</td>\n",
       "      <td>100</td>\n",
       "      <td>This is an easy and quick recipe that is great...</td>\n",
       "      <td>2021-06-03 10:57:32</td>\n",
       "      <td>3</td>\n",
       "      <td>6</td>\n",
       "      <td>2021</td>\n",
       "      <td>10</td>\n",
       "      <td>3</td>\n",
       "    </tr>\n",
       "    <tr>\n",
       "      <th>2</th>\n",
       "      <td>458</td>\n",
       "      <td>3</td>\n",
       "      <td>2832</td>\n",
       "      <td>Cheeseburger Soup</td>\n",
       "      <td>sp_aUSaElGf_2832_c_206522</td>\n",
       "      <td>u_1oKYHUtdaD48KJCDYq5wfpAUxWz</td>\n",
       "      <td>jeannem32</td>\n",
       "      <td>1</td>\n",
       "      <td>1622717357</td>\n",
       "      <td>0</td>\n",
       "      <td>...</td>\n",
       "      <td>0</td>\n",
       "      <td>3</td>\n",
       "      <td>100</td>\n",
       "      <td>I think I was looking for something extra spec...</td>\n",
       "      <td>2021-06-03 10:49:17</td>\n",
       "      <td>3</td>\n",
       "      <td>6</td>\n",
       "      <td>2021</td>\n",
       "      <td>10</td>\n",
       "      <td>3</td>\n",
       "    </tr>\n",
       "    <tr>\n",
       "      <th>4</th>\n",
       "      <td>60</td>\n",
       "      <td>12</td>\n",
       "      <td>19731</td>\n",
       "      <td>Cauliflower Soup</td>\n",
       "      <td>sp_aUSaElGf_19731_c_387011</td>\n",
       "      <td>u_1oKd4sudZQPgu6YALiC7bW7mKMs</td>\n",
       "      <td>SusanHoward</td>\n",
       "      <td>1</td>\n",
       "      <td>1622718260</td>\n",
       "      <td>0</td>\n",
       "      <td>...</td>\n",
       "      <td>0</td>\n",
       "      <td>4</td>\n",
       "      <td>100</td>\n",
       "      <td>Great basic recipe. I added 2 teaspoons Tuscan...</td>\n",
       "      <td>2021-06-03 11:04:20</td>\n",
       "      <td>3</td>\n",
       "      <td>6</td>\n",
       "      <td>2021</td>\n",
       "      <td>11</td>\n",
       "      <td>3</td>\n",
       "    </tr>\n",
       "    <tr>\n",
       "      <th>6</th>\n",
       "      <td>96</td>\n",
       "      <td>17</td>\n",
       "      <td>36450</td>\n",
       "      <td>Fluffy Key Lime Pie</td>\n",
       "      <td>sp_aUSaElGf_36450_c_352563</td>\n",
       "      <td>u_1oKVpLXFmg8oIk8lHGHV0mcZb53</td>\n",
       "      <td>bybybaby</td>\n",
       "      <td>1</td>\n",
       "      <td>1622718115</td>\n",
       "      <td>0</td>\n",
       "      <td>...</td>\n",
       "      <td>0</td>\n",
       "      <td>4</td>\n",
       "      <td>100</td>\n",
       "      <td>Very good and summer good.</td>\n",
       "      <td>2021-06-03 11:01:55</td>\n",
       "      <td>3</td>\n",
       "      <td>6</td>\n",
       "      <td>2021</td>\n",
       "      <td>11</td>\n",
       "      <td>3</td>\n",
       "    </tr>\n",
       "    <tr>\n",
       "      <th>...</th>\n",
       "      <td>...</td>\n",
       "      <td>...</td>\n",
       "      <td>...</td>\n",
       "      <td>...</td>\n",
       "      <td>...</td>\n",
       "      <td>...</td>\n",
       "      <td>...</td>\n",
       "      <td>...</td>\n",
       "      <td>...</td>\n",
       "      <td>...</td>\n",
       "      <td>...</td>\n",
       "      <td>...</td>\n",
       "      <td>...</td>\n",
       "      <td>...</td>\n",
       "      <td>...</td>\n",
       "      <td>...</td>\n",
       "      <td>...</td>\n",
       "      <td>...</td>\n",
       "      <td>...</td>\n",
       "      <td>...</td>\n",
       "      <td>...</td>\n",
       "    </tr>\n",
       "    <tr>\n",
       "      <th>13631</th>\n",
       "      <td>115</td>\n",
       "      <td>98</td>\n",
       "      <td>11767</td>\n",
       "      <td>Quick Cream of Mushroom Soup</td>\n",
       "      <td>sp_aUSaElGf_11767_c_127710</td>\n",
       "      <td>u_1oKVbHjirkAIWwTjbt9dWyqENo2</td>\n",
       "      <td>elbay</td>\n",
       "      <td>1</td>\n",
       "      <td>1622716969</td>\n",
       "      <td>0</td>\n",
       "      <td>...</td>\n",
       "      <td>0</td>\n",
       "      <td>5</td>\n",
       "      <td>100</td>\n",
       "      <td>Delicious!! Very easy to make! One minor chang...</td>\n",
       "      <td>2021-06-03 10:42:49</td>\n",
       "      <td>3</td>\n",
       "      <td>6</td>\n",
       "      <td>2021</td>\n",
       "      <td>10</td>\n",
       "      <td>3</td>\n",
       "    </tr>\n",
       "    <tr>\n",
       "      <th>13632</th>\n",
       "      <td>372</td>\n",
       "      <td>6</td>\n",
       "      <td>21444</td>\n",
       "      <td>Favorite Chicken Potpie</td>\n",
       "      <td>sp_aUSaElGf_21444_c_196030</td>\n",
       "      <td>u_1oKXoBnyJ2ocquNYwAhs19LMSrA</td>\n",
       "      <td>PauletteInhofe</td>\n",
       "      <td>1</td>\n",
       "      <td>1622717329</td>\n",
       "      <td>0</td>\n",
       "      <td>...</td>\n",
       "      <td>0</td>\n",
       "      <td>5</td>\n",
       "      <td>100</td>\n",
       "      <td>I made this pie for my family and they loved i...</td>\n",
       "      <td>2021-06-03 10:48:49</td>\n",
       "      <td>3</td>\n",
       "      <td>6</td>\n",
       "      <td>2021</td>\n",
       "      <td>10</td>\n",
       "      <td>3</td>\n",
       "    </tr>\n",
       "    <tr>\n",
       "      <th>13633</th>\n",
       "      <td>87</td>\n",
       "      <td>37</td>\n",
       "      <td>20170</td>\n",
       "      <td>Taco Lasagna</td>\n",
       "      <td>sp_aUSaElGf_20170_c_359338</td>\n",
       "      <td>u_1oKbGr5o9tj0mQl1rkVqzWnE481</td>\n",
       "      <td>Barbaralarkin</td>\n",
       "      <td>1</td>\n",
       "      <td>1622718089</td>\n",
       "      <td>0</td>\n",
       "      <td>...</td>\n",
       "      <td>0</td>\n",
       "      <td>5</td>\n",
       "      <td>100</td>\n",
       "      <td>Very tasty!</td>\n",
       "      <td>2021-06-03 11:01:29</td>\n",
       "      <td>3</td>\n",
       "      <td>6</td>\n",
       "      <td>2021</td>\n",
       "      <td>11</td>\n",
       "      <td>3</td>\n",
       "    </tr>\n",
       "    <tr>\n",
       "      <th>13634</th>\n",
       "      <td>48</td>\n",
       "      <td>63</td>\n",
       "      <td>24886</td>\n",
       "      <td>Chicken and Dumplings</td>\n",
       "      <td>sp_aUSaElGf_24886_c_175514</td>\n",
       "      <td>u_1oKWD7Dqjmc0oYHdW8Vm3fzhxJW</td>\n",
       "      <td>SammyPrissy</td>\n",
       "      <td>1</td>\n",
       "      <td>1622717192</td>\n",
       "      <td>0</td>\n",
       "      <td>...</td>\n",
       "      <td>0</td>\n",
       "      <td>5</td>\n",
       "      <td>100</td>\n",
       "      <td>I have made this numerous times.  It&amp;#39;s so ...</td>\n",
       "      <td>2021-06-03 10:46:32</td>\n",
       "      <td>3</td>\n",
       "      <td>6</td>\n",
       "      <td>2021</td>\n",
       "      <td>10</td>\n",
       "      <td>3</td>\n",
       "    </tr>\n",
       "    <tr>\n",
       "      <th>13635</th>\n",
       "      <td>379</td>\n",
       "      <td>3</td>\n",
       "      <td>2832</td>\n",
       "      <td>Cheeseburger Soup</td>\n",
       "      <td>sp_aUSaElGf_2832_c_278956</td>\n",
       "      <td>u_1oKYPsERQ0GvUcjIsuAxzmnsQGW</td>\n",
       "      <td>morgantowndan</td>\n",
       "      <td>1</td>\n",
       "      <td>1622717703</td>\n",
       "      <td>0</td>\n",
       "      <td>...</td>\n",
       "      <td>0</td>\n",
       "      <td>5</td>\n",
       "      <td>100</td>\n",
       "      <td>Super. I added 1/2 lb chopped bacon to mine. H...</td>\n",
       "      <td>2021-06-03 10:55:03</td>\n",
       "      <td>3</td>\n",
       "      <td>6</td>\n",
       "      <td>2021</td>\n",
       "      <td>10</td>\n",
       "      <td>3</td>\n",
       "    </tr>\n",
       "  </tbody>\n",
       "</table>\n",
       "<p>12507 rows × 21 columns</p>\n",
       "</div>"
      ],
      "text/plain": [
       "        ID  RecipeNumber  RecipeCode                              RecipeName  \\\n",
       "0       70            71       12259  Banana Bars with Cream Cheese Frosting   \n",
       "1       72            88        8202                        Simple Taco Soup   \n",
       "2      458             3        2832                       Cheeseburger Soup   \n",
       "4       60            12       19731                        Cauliflower Soup   \n",
       "6       96            17       36450                     Fluffy Key Lime Pie   \n",
       "...    ...           ...         ...                                     ...   \n",
       "13631  115            98       11767            Quick Cream of Mushroom Soup   \n",
       "13632  372             6       21444                 Favorite Chicken Potpie   \n",
       "13633   87            37       20170                            Taco Lasagna   \n",
       "13634   48            63       24886                   Chicken and Dumplings   \n",
       "13635  379             3        2832                       Cheeseburger Soup   \n",
       "\n",
       "                        CommentID                         UserID  \\\n",
       "0      sp_aUSaElGf_12259_c_149978  u_1oKVaBmiEKwAFyiHrDLoWpbel0J   \n",
       "1       sp_aUSaElGf_8202_c_310332  u_1oKZeRIXYzGNhGW8OMR3O4lX1ih   \n",
       "2       sp_aUSaElGf_2832_c_206522  u_1oKYHUtdaD48KJCDYq5wfpAUxWz   \n",
       "4      sp_aUSaElGf_19731_c_387011  u_1oKd4sudZQPgu6YALiC7bW7mKMs   \n",
       "6      sp_aUSaElGf_36450_c_352563  u_1oKVpLXFmg8oIk8lHGHV0mcZb53   \n",
       "...                           ...                            ...   \n",
       "13631  sp_aUSaElGf_11767_c_127710  u_1oKVbHjirkAIWwTjbt9dWyqENo2   \n",
       "13632  sp_aUSaElGf_21444_c_196030  u_1oKXoBnyJ2ocquNYwAhs19LMSrA   \n",
       "13633  sp_aUSaElGf_20170_c_359338  u_1oKbGr5o9tj0mQl1rkVqzWnE481   \n",
       "13634  sp_aUSaElGf_24886_c_175514  u_1oKWD7Dqjmc0oYHdW8Vm3fzhxJW   \n",
       "13635   sp_aUSaElGf_2832_c_278956  u_1oKYPsERQ0GvUcjIsuAxzmnsQGW   \n",
       "\n",
       "             UserName  UserReputation  CreationTimestamp  ReplyCount  ...  \\\n",
       "0       misscoffeepot              20         1622717078           0  ...   \n",
       "1      MichelleMalone               1         1622717852           0  ...   \n",
       "2           jeannem32               1         1622717357           0  ...   \n",
       "4         SusanHoward               1         1622718260           0  ...   \n",
       "6            bybybaby               1         1622718115           0  ...   \n",
       "...               ...             ...                ...         ...  ...   \n",
       "13631           elbay               1         1622716969           0  ...   \n",
       "13632  PauletteInhofe               1         1622717329           0  ...   \n",
       "13633   Barbaralarkin               1         1622718089           0  ...   \n",
       "13634     SammyPrissy               1         1622717192           0  ...   \n",
       "13635   morgantowndan               1         1622717703           0  ...   \n",
       "\n",
       "       ThumbsDownCount  Rating  BestScore  \\\n",
       "0                    0       5        100   \n",
       "1                    1       5        100   \n",
       "2                    0       3        100   \n",
       "4                    0       4        100   \n",
       "6                    0       4        100   \n",
       "...                ...     ...        ...   \n",
       "13631                0       5        100   \n",
       "13632                0       5        100   \n",
       "13633                0       5        100   \n",
       "13634                0       5        100   \n",
       "13635                0       5        100   \n",
       "\n",
       "                                           Recipe_Review                Date  \\\n",
       "0      great recipe! I have made them just as written... 2021-06-03 10:44:38   \n",
       "1      This is an easy and quick recipe that is great... 2021-06-03 10:57:32   \n",
       "2      I think I was looking for something extra spec... 2021-06-03 10:49:17   \n",
       "4      Great basic recipe. I added 2 teaspoons Tuscan... 2021-06-03 11:04:20   \n",
       "6                             Very good and summer good. 2021-06-03 11:01:55   \n",
       "...                                                  ...                 ...   \n",
       "13631  Delicious!! Very easy to make! One minor chang... 2021-06-03 10:42:49   \n",
       "13632  I made this pie for my family and they loved i... 2021-06-03 10:48:49   \n",
       "13633                                        Very tasty! 2021-06-03 11:01:29   \n",
       "13634  I have made this numerous times.  It&#39;s so ... 2021-06-03 10:46:32   \n",
       "13635  Super. I added 1/2 lb chopped bacon to mine. H... 2021-06-03 10:55:03   \n",
       "\n",
       "      day  month  yeay  time  dow  \n",
       "0       3      6  2021    10    3  \n",
       "1       3      6  2021    10    3  \n",
       "2       3      6  2021    10    3  \n",
       "4       3      6  2021    11    3  \n",
       "6       3      6  2021    11    3  \n",
       "...    ..    ...   ...   ...  ...  \n",
       "13631   3      6  2021    10    3  \n",
       "13632   3      6  2021    10    3  \n",
       "13633   3      6  2021    11    3  \n",
       "13634   3      6  2021    10    3  \n",
       "13635   3      6  2021    10    3  \n",
       "\n",
       "[12507 rows x 21 columns]"
      ]
     },
     "execution_count": 15,
     "metadata": {},
     "output_type": "execute_result"
    }
   ],
   "source": [
    "df[(df['yeay'] == 2021)&(df['month'] == 6) & (df['day'] == 3) & ((df['time'] == 10) | (df['time'] ==11))] ##More than 12,000 reviews were posted on 3rd June 2021 between 10 am and 12pm"
   ]
  },
  {
   "cell_type": "code",
   "execution_count": 16,
   "id": "2202fb3a",
   "metadata": {
    "execution": {
     "iopub.execute_input": "2024-04-01T04:33:27.294335Z",
     "iopub.status.busy": "2024-04-01T04:33:27.293987Z",
     "iopub.status.idle": "2024-04-01T04:33:27.298121Z",
     "shell.execute_reply": "2024-04-01T04:33:27.297217Z"
    },
    "papermill": {
     "duration": 0.02361,
     "end_time": "2024-04-01T04:33:27.300078",
     "exception": false,
     "start_time": "2024-04-01T04:33:27.276468",
     "status": "completed"
    },
    "tags": []
   },
   "outputs": [],
   "source": [
    "#sns.pairplot(df[num])###looking for corelations and the distribution"
   ]
  },
  {
   "cell_type": "code",
   "execution_count": 17,
   "id": "8b32d56b",
   "metadata": {
    "execution": {
     "iopub.execute_input": "2024-04-01T04:33:27.334524Z",
     "iopub.status.busy": "2024-04-01T04:33:27.334192Z",
     "iopub.status.idle": "2024-04-01T04:33:27.606241Z",
     "shell.execute_reply": "2024-04-01T04:33:27.605152Z"
    },
    "papermill": {
     "duration": 0.291869,
     "end_time": "2024-04-01T04:33:27.608527",
     "exception": false,
     "start_time": "2024-04-01T04:33:27.316658",
     "status": "completed"
    },
    "tags": []
   },
   "outputs": [
    {
     "name": "stderr",
     "output_type": "stream",
     "text": [
      "/opt/conda/lib/python3.10/site-packages/seaborn/_oldcore.py:1119: FutureWarning: use_inf_as_na option is deprecated and will be removed in a future version. Convert inf values to NaN before operating instead.\n",
      "  with pd.option_context('mode.use_inf_as_na', True):\n"
     ]
    },
    {
     "data": {
      "text/plain": [
       "<Axes: xlabel='Rating', ylabel='Count'>"
      ]
     },
     "execution_count": 17,
     "metadata": {},
     "output_type": "execute_result"
    },
    {
     "data": {
      "image/png": "[encoded data removed]",
      "text/plain": [
       "<Figure size 640x480 with 1 Axes>"
      ]
     },
     "metadata": {},
     "output_type": "display_data"
    }
   ],
   "source": [
    "sns.histplot(df['Rating'])"
   ]
  },
  {
   "cell_type": "code",
   "execution_count": 18,
   "id": "29933b09",
   "metadata": {
    "execution": {
     "iopub.execute_input": "2024-04-01T04:33:27.645614Z",
     "iopub.status.busy": "2024-04-01T04:33:27.645283Z",
     "iopub.status.idle": "2024-04-01T04:33:27.649233Z",
     "shell.execute_reply": "2024-04-01T04:33:27.648278Z"
    },
    "papermill": {
     "duration": 0.024883,
     "end_time": "2024-04-01T04:33:27.651107",
     "exception": false,
     "start_time": "2024-04-01T04:33:27.626224",
     "status": "completed"
    },
    "tags": []
   },
   "outputs": [],
   "source": [
    "#text = html.unescap\n",
    "#svc\n",
    "#decision tree\n",
    "#lgbm "
   ]
  },
  {
   "cell_type": "markdown",
   "id": "0d6bc38e",
   "metadata": {
    "papermill": {
     "duration": 0.067854,
     "end_time": "2024-04-01T04:33:27.736118",
     "exception": false,
     "start_time": "2024-04-01T04:33:27.668264",
     "status": "completed"
    },
    "tags": []
   },
   "source": [
    "# Drop Null Values"
   ]
  },
  {
   "cell_type": "code",
   "execution_count": 19,
   "id": "225c202f",
   "metadata": {
    "execution": {
     "iopub.execute_input": "2024-04-01T04:33:27.772895Z",
     "iopub.status.busy": "2024-04-01T04:33:27.772226Z",
     "iopub.status.idle": "2024-04-01T04:33:27.784158Z",
     "shell.execute_reply": "2024-04-01T04:33:27.783337Z"
    },
    "papermill": {
     "duration": 0.032861,
     "end_time": "2024-04-01T04:33:27.786390",
     "exception": false,
     "start_time": "2024-04-01T04:33:27.753529",
     "status": "completed"
    },
    "tags": []
   },
   "outputs": [],
   "source": [
    "df.dropna(axis=0,inplace=True)"
   ]
  },
  {
   "cell_type": "markdown",
   "id": "c3de54c0",
   "metadata": {
    "papermill": {
     "duration": 0.017185,
     "end_time": "2024-04-01T04:33:27.821271",
     "exception": false,
     "start_time": "2024-04-01T04:33:27.804086",
     "status": "completed"
    },
    "tags": []
   },
   "source": [
    "# Feature Selection"
   ]
  },
  {
   "cell_type": "code",
   "execution_count": 20,
   "id": "df0a8322",
   "metadata": {
    "execution": {
     "iopub.execute_input": "2024-04-01T04:33:27.857871Z",
     "iopub.status.busy": "2024-04-01T04:33:27.856992Z",
     "iopub.status.idle": "2024-04-01T04:33:27.862811Z",
     "shell.execute_reply": "2024-04-01T04:33:27.861878Z"
    },
    "papermill": {
     "duration": 0.026095,
     "end_time": "2024-04-01T04:33:27.864814",
     "exception": false,
     "start_time": "2024-04-01T04:33:27.838719",
     "status": "completed"
    },
    "tags": []
   },
   "outputs": [
    {
     "data": {
      "text/plain": [
       "Index(['ID', 'RecipeNumber', 'RecipeCode', 'RecipeName', 'CommentID', 'UserID',\n",
       "       'UserName', 'UserReputation', 'CreationTimestamp', 'ReplyCount',\n",
       "       'ThumbsUpCount', 'ThumbsDownCount', 'Rating', 'BestScore',\n",
       "       'Recipe_Review', 'Date', 'day', 'month', 'yeay', 'time', 'dow'],\n",
       "      dtype='object')"
      ]
     },
     "execution_count": 20,
     "metadata": {},
     "output_type": "execute_result"
    }
   ],
   "source": [
    "df.columns"
   ]
  },
  {
   "cell_type": "code",
   "execution_count": 21,
   "id": "9ef2549e",
   "metadata": {
    "execution": {
     "iopub.execute_input": "2024-04-01T04:33:27.901754Z",
     "iopub.status.busy": "2024-04-01T04:33:27.900874Z",
     "iopub.status.idle": "2024-04-01T04:33:27.907139Z",
     "shell.execute_reply": "2024-04-01T04:33:27.906201Z"
    },
    "papermill": {
     "duration": 0.026854,
     "end_time": "2024-04-01T04:33:27.909336",
     "exception": false,
     "start_time": "2024-04-01T04:33:27.882482",
     "status": "completed"
    },
    "tags": []
   },
   "outputs": [],
   "source": [
    "X = df[['RecipeNumber' , 'UserReputation', 'ReplyCount',\n",
    "       'ThumbsUpCount', 'ThumbsDownCount', 'BestScore', 'day', 'month', 'yeay', 'time', 'dow']]\n",
    "Y = df['Rating']"
   ]
  },
  {
   "cell_type": "code",
   "execution_count": 22,
   "id": "8a1e79da",
   "metadata": {
    "execution": {
     "iopub.execute_input": "2024-04-01T04:33:27.945727Z",
     "iopub.status.busy": "2024-04-01T04:33:27.945161Z",
     "iopub.status.idle": "2024-04-01T04:33:27.966939Z",
     "shell.execute_reply": "2024-04-01T04:33:27.965996Z"
    },
    "papermill": {
     "duration": 0.042346,
     "end_time": "2024-04-01T04:33:27.969136",
     "exception": false,
     "start_time": "2024-04-01T04:33:27.926790",
     "status": "completed"
    },
    "tags": []
   },
   "outputs": [
    {
     "name": "stdout",
     "output_type": "stream",
     "text": [
      "[1.487e+03 2.583e+02 2.985e+02 7.307e+02 1.457e+04 5.558e+03 1.469e+02\n",
      " 1.420e+00 5.314e-04 7.754e+00 1.479e+00]\n",
      "[[ 71   0   0   0 100]\n",
      " [ 88   0   0   1 100]\n",
      " [  3   0   0   0 100]\n",
      " [ 50   0   0   0 100]\n",
      " [ 12   0   0   0 100]]\n"
     ]
    }
   ],
   "source": [
    "test = SelectKBest(score_func=chi2, k=5)\n",
    "fit = test.fit(X, Y)\n",
    "\n",
    "# Summarize scores\n",
    "np.set_printoptions(precision=3)\n",
    "print(fit.scores_)\n",
    "\n",
    "features = fit.transform(X)\n",
    "# Summarize selected features\n",
    "print(features[0:5,:])\n"
   ]
  },
  {
   "cell_type": "code",
   "execution_count": null,
   "id": "5901246e",
   "metadata": {
    "papermill": {
     "duration": 0.017179,
     "end_time": "2024-04-01T04:33:28.003827",
     "exception": false,
     "start_time": "2024-04-01T04:33:27.986648",
     "status": "completed"
    },
    "tags": []
   },
   "outputs": [],
   "source": []
  },
  {
   "cell_type": "code",
   "execution_count": 23,
   "id": "3588b939",
   "metadata": {
    "execution": {
     "iopub.execute_input": "2024-04-01T04:33:28.042376Z",
     "iopub.status.busy": "2024-04-01T04:33:28.041430Z",
     "iopub.status.idle": "2024-04-01T04:33:28.047617Z",
     "shell.execute_reply": "2024-04-01T04:33:28.046859Z"
    },
    "papermill": {
     "duration": 0.027087,
     "end_time": "2024-04-01T04:33:28.049687",
     "exception": false,
     "start_time": "2024-04-01T04:33:28.022600",
     "status": "completed"
    },
    "tags": []
   },
   "outputs": [],
   "source": [
    "\n",
    "ratings = df[['RecipeCode','RecipeNumber','RecipeName','Recipe_Review','BestScore','Rating','UserReputation','ReplyCount','ThumbsUpCount', 'ThumbsDownCount','day','time']]"
   ]
  },
  {
   "cell_type": "code",
   "execution_count": null,
   "id": "d04fe065",
   "metadata": {
    "papermill": {
     "duration": 0.017045,
     "end_time": "2024-04-01T04:33:28.084153",
     "exception": false,
     "start_time": "2024-04-01T04:33:28.067108",
     "status": "completed"
    },
    "tags": []
   },
   "outputs": [],
   "source": []
  },
  {
   "cell_type": "markdown",
   "id": "01f8aed4",
   "metadata": {
    "papermill": {
     "duration": 0.017174,
     "end_time": "2024-04-01T04:33:28.118679",
     "exception": false,
     "start_time": "2024-04-01T04:33:28.101505",
     "status": "completed"
    },
    "tags": []
   },
   "source": [
    "# Data Cleaning"
   ]
  },
  {
   "cell_type": "code",
   "execution_count": 24,
   "id": "542df22e",
   "metadata": {
    "execution": {
     "iopub.execute_input": "2024-04-01T04:33:28.155068Z",
     "iopub.status.busy": "2024-04-01T04:33:28.154714Z",
     "iopub.status.idle": "2024-04-01T04:33:29.424169Z",
     "shell.execute_reply": "2024-04-01T04:33:29.423138Z"
    },
    "papermill": {
     "duration": 1.291076,
     "end_time": "2024-04-01T04:33:29.427131",
     "exception": false,
     "start_time": "2024-04-01T04:33:28.136055",
     "status": "completed"
    },
    "tags": []
   },
   "outputs": [
    {
     "name": "stderr",
     "output_type": "stream",
     "text": [
      "/tmp/ipykernel_18/802609679.py:9: SettingWithCopyWarning: \n",
      "A value is trying to be set on a copy of a slice from a DataFrame.\n",
      "Try using .loc[row_indexer,col_indexer] = value instead\n",
      "\n",
      "See the caveats in the documentation: https://pandas.pydata.org/pandas-docs/stable/user_guide/indexing.html#returning-a-view-versus-a-copy\n",
      "  ratings['Cleaned'] = ratings['Recipe_Review'].apply(lambda x: clean(str(x)))\n"
     ]
    },
    {
     "data": {
      "text/plain": [
       "(13634, 13)"
      ]
     },
     "execution_count": 24,
     "metadata": {},
     "output_type": "execute_result"
    }
   ],
   "source": [
    "\n",
    "stopw = ['i','me','my', 'myself', 'we', 'our', 'ours','ourselves', 'you', \"you're\", \"you've\", \"you'll\", \"you'd\", 'your', 'yours', 'yourself', 'yourselves', 'he', 'him', 'his', 'himself', 'she', \"she's\", 'her', 'hers', 'herself', 'it', \"it's\", 'its', 'itself', 'they', 'them', 'their', 'theirs', 'themselves', 'what', 'which', 'who', 'whom', 'this', 'that', \"that'll\", 'these', 'those', 'am', 'is', 'are', 'was', 'were', 'be', 'been', 'being', 'have','has','had', 'having','do', 'does', 'did', 'doing', 'a', 'an', 'the', 'and', 'but', 'if', 'or', 'because', 'as', 'until', 'while', 'of', 'at', 'by', 'for', 'with', 'about', 'against', 'between', 'into', 'through', 'during', 'before', 'after', 'above', 'below', 'to', 'from', 'up', 'down', 'in', 'out', 'on', 'off', 'over', 'under', 'again','further', 'then', 'once', 'here', 'there', 'when', 'where', 'why', 'how', 'all', 'any', 'both', 'each', 'few', 'more', 'most', 'other', 'some', 'such', 'no', 'nor', 'not', 'only', 'own', 'same', 'so', 'than', 'too', 'very', 's', 't', 'can', 'will', 'just', 'don', \"don't\", 'should', \"should've\", 'now', 'd', 'll', 'm', 'o', 're', 've', 'y', 'ain', 'aren', \"aren't\", 'couldn', \"couldn't\", 'didn', \"didn't\", 'doesn', \"doesn't\", 'hadn', \"hadn't\", 'hasn', \"hasn't\", 'haven', \"haven't\", 'isn', \"isn't\", 'ma', 'mightn', \"mightn't\", 'mustn', \"mustn't\", 'needn', \"needn't\", 'shan', \"shan't\", 'shouldn', \"shouldn't\", 'wasn', \"wasn't\", 'weren', \"weren't\", 'won',\n",
    " \"won't\", 'wouldn', \"wouldn't\"]\n",
    "def clean(x):\n",
    "    \n",
    "    words = ''.join([char for char in x if char not in '!\"#$%&\\'()*+,-./:;<=>?@[\\\\]^_`{|}~1234567890'])\n",
    "    return ' '.join([word for word in words.split() if word.lower() not in stopw])\n",
    "    #return words\n",
    "#print(clean('sachit!!,,..'))\n",
    "ratings['Cleaned'] = ratings['Recipe_Review'].apply(lambda x: clean(str(x)))\n",
    "ratings.shape"
   ]
  },
  {
   "cell_type": "code",
   "execution_count": 25,
   "id": "2d35f367",
   "metadata": {
    "execution": {
     "iopub.execute_input": "2024-04-01T04:33:29.464992Z",
     "iopub.status.busy": "2024-04-01T04:33:29.464338Z",
     "iopub.status.idle": "2024-04-01T04:33:29.483255Z",
     "shell.execute_reply": "2024-04-01T04:33:29.481516Z"
    },
    "papermill": {
     "duration": 0.040921,
     "end_time": "2024-04-01T04:33:29.486335",
     "exception": false,
     "start_time": "2024-04-01T04:33:29.445414",
     "status": "completed"
    },
    "tags": []
   },
   "outputs": [
    {
     "name": "stderr",
     "output_type": "stream",
     "text": [
      "/tmp/ipykernel_18/1610105560.py:1: SettingWithCopyWarning: \n",
      "A value is trying to be set on a copy of a slice from a DataFrame\n",
      "\n",
      "See the caveats in the documentation: https://pandas.pydata.org/pandas-docs/stable/user_guide/indexing.html#returning-a-view-versus-a-copy\n",
      "  ratings.drop('Recipe_Review',axis=1,inplace=True)\n",
      "/tmp/ipykernel_18/1610105560.py:2: SettingWithCopyWarning: \n",
      "A value is trying to be set on a copy of a slice from a DataFrame.\n",
      "Try using .loc[row_indexer,col_indexer] = value instead\n",
      "\n",
      "See the caveats in the documentation: https://pandas.pydata.org/pandas-docs/stable/user_guide/indexing.html#returning-a-view-versus-a-copy\n",
      "  ratings['len'] = ratings['Cleaned'].apply(lambda x: len(x))\n"
     ]
    }
   ],
   "source": [
    "ratings.drop('Recipe_Review',axis=1,inplace=True)\n",
    "ratings['len'] = ratings['Cleaned'].apply(lambda x: len(x))\n",
    "ratings1 = ratings[ratings['len']<400]"
   ]
  },
  {
   "cell_type": "code",
   "execution_count": 26,
   "id": "33a1cef1",
   "metadata": {
    "execution": {
     "iopub.execute_input": "2024-04-01T04:33:29.524321Z",
     "iopub.status.busy": "2024-04-01T04:33:29.523952Z",
     "iopub.status.idle": "2024-04-01T04:33:29.545935Z",
     "shell.execute_reply": "2024-04-01T04:33:29.544916Z"
    },
    "papermill": {
     "duration": 0.043452,
     "end_time": "2024-04-01T04:33:29.548128",
     "exception": false,
     "start_time": "2024-04-01T04:33:29.504676",
     "status": "completed"
    },
    "tags": []
   },
   "outputs": [],
   "source": [
    "pd.options.display.max_colwidth = 500\n",
    "x = ratings1.drop('Rating',axis=1)\n",
    "y = ratings1['Rating']\n",
    "x_tot,x_test,y_tot,y_test = train_test_split(x,y,test_size = 0.2,random_state=42,stratify=y)\n",
    "x_train,xval,y_train,yval = train_test_split(x_tot,y_tot)"
   ]
  },
  {
   "cell_type": "code",
   "execution_count": 27,
   "id": "4c533ca5",
   "metadata": {
    "execution": {
     "iopub.execute_input": "2024-04-01T04:33:29.585750Z",
     "iopub.status.busy": "2024-04-01T04:33:29.585374Z",
     "iopub.status.idle": "2024-04-01T04:33:29.591191Z",
     "shell.execute_reply": "2024-04-01T04:33:29.590163Z"
    },
    "papermill": {
     "duration": 0.026722,
     "end_time": "2024-04-01T04:33:29.592984",
     "exception": false,
     "start_time": "2024-04-01T04:33:29.566262",
     "status": "completed"
    },
    "tags": []
   },
   "outputs": [],
   "source": [
    "numfeature = ['RecipeNumber','BestScore','UserReputation','ThumbsUpCount', 'ThumbsDownCount','day','time','ReplyCount']\n",
    "cat = ['RecipeCode']\n",
    "colt = ColumnTransformer([('minmax',MinMaxScaler(),numfeature),('ohe',OneHotEncoder(),cat),('tfidf',TfidfVectorizer(max_features=2500,ngram_range=(1,3)),'Cleaned'),('tfidf2',TfidfVectorizer(),'RecipeName')])\n",
    "\n",
    "#pipe = Pipeline([('trans',colt),('xgb',XGBClassifier())])\n",
    "\n",
    "#pipe.fit(x_train,y_train)"
   ]
  },
  {
   "cell_type": "code",
   "execution_count": 28,
   "id": "6f2a9b9f",
   "metadata": {
    "execution": {
     "iopub.execute_input": "2024-04-01T04:33:29.630125Z",
     "iopub.status.busy": "2024-04-01T04:33:29.629751Z",
     "iopub.status.idle": "2024-04-01T04:33:29.634128Z",
     "shell.execute_reply": "2024-04-01T04:33:29.633176Z"
    },
    "papermill": {
     "duration": 0.025353,
     "end_time": "2024-04-01T04:33:29.636202",
     "exception": false,
     "start_time": "2024-04-01T04:33:29.610849",
     "status": "completed"
    },
    "tags": []
   },
   "outputs": [],
   "source": [
    "np.random.seed=42"
   ]
  },
  {
   "cell_type": "code",
   "execution_count": 29,
   "id": "5c3fe267",
   "metadata": {
    "execution": {
     "iopub.execute_input": "2024-04-01T04:33:29.673551Z",
     "iopub.status.busy": "2024-04-01T04:33:29.672844Z",
     "iopub.status.idle": "2024-04-01T04:33:56.392427Z",
     "shell.execute_reply": "2024-04-01T04:33:56.391489Z"
    },
    "papermill": {
     "duration": 26.740538,
     "end_time": "2024-04-01T04:33:56.394628",
     "exception": false,
     "start_time": "2024-04-01T04:33:29.654090",
     "status": "completed"
    },
    "tags": []
   },
   "outputs": [
    {
     "data": {
      "text/plain": [
       "0.7702753677857412"
      ]
     },
     "execution_count": 29,
     "metadata": {},
     "output_type": "execute_result"
    }
   ],
   "source": [
    "pipe1a = Pipeline([('trans',colt),('xgb',XGBClassifier(random_state=42))])\n",
    "pipe1a.fit(x_train,y_train)\n",
    "pipe1a.score(x_test,y_test)"
   ]
  },
  {
   "cell_type": "code",
   "execution_count": 30,
   "id": "3fab98bd",
   "metadata": {
    "execution": {
     "iopub.execute_input": "2024-04-01T04:33:56.432723Z",
     "iopub.status.busy": "2024-04-01T04:33:56.432359Z",
     "iopub.status.idle": "2024-04-01T04:33:59.698287Z",
     "shell.execute_reply": "2024-04-01T04:33:59.697376Z"
    },
    "papermill": {
     "duration": 3.287741,
     "end_time": "2024-04-01T04:33:59.700733",
     "exception": false,
     "start_time": "2024-04-01T04:33:56.412992",
     "status": "completed"
    },
    "tags": []
   },
   "outputs": [],
   "source": [
    "pipe2a = Pipeline([('trans',colt),('lr',LogisticRegression(max_iter=1000))])\n",
    "pipe2a.fit(x_train,y_train)\n",
    "score2 = pipe2a.score(x_test,y_test)"
   ]
  },
  {
   "cell_type": "code",
   "execution_count": 31,
   "id": "f60dbc2a",
   "metadata": {
    "execution": {
     "iopub.execute_input": "2024-04-01T04:33:59.738635Z",
     "iopub.status.busy": "2024-04-01T04:33:59.737840Z",
     "iopub.status.idle": "2024-04-01T04:34:10.144777Z",
     "shell.execute_reply": "2024-04-01T04:34:10.143704Z"
    },
    "papermill": {
     "duration": 10.428538,
     "end_time": "2024-04-01T04:34:10.147419",
     "exception": false,
     "start_time": "2024-04-01T04:33:59.718881",
     "status": "completed"
    },
    "tags": []
   },
   "outputs": [
    {
     "data": {
      "text/plain": [
       "0.7695209354960393"
      ]
     },
     "execution_count": 31,
     "metadata": {},
     "output_type": "execute_result"
    }
   ],
   "source": [
    "pipe3 = Pipeline([('trans',colt),('rfc',RandomForestClassifier())])\n",
    "pipe3.fit(x_train,y_train)\n",
    "pipe3.score(x_test,y_test)"
   ]
  },
  {
   "cell_type": "code",
   "execution_count": 32,
   "id": "d1213025",
   "metadata": {
    "execution": {
     "iopub.execute_input": "2024-04-01T04:34:10.186451Z",
     "iopub.status.busy": "2024-04-01T04:34:10.186105Z",
     "iopub.status.idle": "2024-04-01T04:34:21.030526Z",
     "shell.execute_reply": "2024-04-01T04:34:21.029729Z"
    },
    "papermill": {
     "duration": 10.865946,
     "end_time": "2024-04-01T04:34:21.032971",
     "exception": false,
     "start_time": "2024-04-01T04:34:10.167025",
     "status": "completed"
    },
    "tags": []
   },
   "outputs": [
    {
     "name": "stdout",
     "output_type": "stream",
     "text": [
      "[LightGBM] [Info] Auto-choosing row-wise multi-threading, the overhead of testing was 0.075165 seconds.\n",
      "You can set `force_row_wise=true` to remove the overhead.\n",
      "And if memory is not enough, you can set `force_col_wise=true`.\n",
      "[LightGBM] [Info] Total Bins 42132\n",
      "[LightGBM] [Info] Number of data points in the train set: 7952, number of used features: 1706\n",
      "[LightGBM] [Info] Start training from score -2.375881\n",
      "[LightGBM] [Info] Start training from score -4.177158\n",
      "[LightGBM] [Info] Start training from score -4.396211\n",
      "[LightGBM] [Info] Start training from score -3.601281\n",
      "[LightGBM] [Info] Start training from score -2.444487\n",
      "[LightGBM] [Info] Start training from score -0.267432\n"
     ]
    }
   ],
   "source": [
    "pipe4 = Pipeline([('trans',colt),('LGB',(LGBMClassifier(random_state=42)))])\n",
    "pipe4.fit(x_train,y_train)\n",
    "score4 = pipe4.score(x_test,y_test)"
   ]
  },
  {
   "cell_type": "code",
   "execution_count": 33,
   "id": "9c18eed9",
   "metadata": {
    "execution": {
     "iopub.execute_input": "2024-04-01T04:34:21.071797Z",
     "iopub.status.busy": "2024-04-01T04:34:21.071211Z",
     "iopub.status.idle": "2024-04-01T04:34:55.163562Z",
     "shell.execute_reply": "2024-04-01T04:34:55.162484Z"
    },
    "papermill": {
     "duration": 34.131873,
     "end_time": "2024-04-01T04:34:55.183625",
     "exception": false,
     "start_time": "2024-04-01T04:34:21.051752",
     "status": "completed"
    },
    "tags": []
   },
   "outputs": [
    {
     "data": {
      "text/plain": [
       "0.7714070162202943"
      ]
     },
     "execution_count": 33,
     "metadata": {},
     "output_type": "execute_result"
    }
   ],
   "source": [
    "pipe1b = Pipeline([('trans',colt),('pca',TruncatedSVD(n_components=200,random_state=42)),('xgb',XGBClassifier(random_state=42))])\n",
    "pipe1b.fit(x_train,y_train)\n",
    "pipe1b.score(x_test,y_test)"
   ]
  },
  {
   "cell_type": "code",
   "execution_count": 34,
   "id": "ba3aae98",
   "metadata": {
    "execution": {
     "iopub.execute_input": "2024-04-01T04:34:55.222770Z",
     "iopub.status.busy": "2024-04-01T04:34:55.222179Z",
     "iopub.status.idle": "2024-04-01T04:34:55.226180Z",
     "shell.execute_reply": "2024-04-01T04:34:55.225318Z"
    },
    "papermill": {
     "duration": 0.026037,
     "end_time": "2024-04-01T04:34:55.228286",
     "exception": false,
     "start_time": "2024-04-01T04:34:55.202249",
     "status": "completed"
    },
    "tags": []
   },
   "outputs": [],
   "source": [
    "# pipe2a = Pipeline([('trans',colt),('pca',TruncatedSVD(random_state=42,n_components=200)),('lr',LogisticRegression(max_iter=1000))])\n",
    "# pipe2a.fit(x_train,y_train)\n",
    "# pipe2a.score(x_test,y_test)"
   ]
  },
  {
   "cell_type": "code",
   "execution_count": 35,
   "id": "741d9373",
   "metadata": {
    "execution": {
     "iopub.execute_input": "2024-04-01T04:34:55.267769Z",
     "iopub.status.busy": "2024-04-01T04:34:55.267402Z",
     "iopub.status.idle": "2024-04-01T04:34:55.271393Z",
     "shell.execute_reply": "2024-04-01T04:34:55.270265Z"
    },
    "papermill": {
     "duration": 0.026448,
     "end_time": "2024-04-01T04:34:55.273432",
     "exception": false,
     "start_time": "2024-04-01T04:34:55.246984",
     "status": "completed"
    },
    "tags": []
   },
   "outputs": [],
   "source": [
    "# pipe3b = Pipeline([('trans',colt),('pca',TruncatedSVD(random_state=42,n_components=200)),('rfc',RandomForestClassifier(random_state=42))])\n",
    "# pipe3b.fit(x_train,y_train)\n",
    "# pipe3b.score(x_test,y_test)"
   ]
  },
  {
   "cell_type": "markdown",
   "id": "67e26d18",
   "metadata": {
    "papermill": {
     "duration": 0.019172,
     "end_time": "2024-04-01T04:34:55.311328",
     "exception": false,
     "start_time": "2024-04-01T04:34:55.292156",
     "status": "completed"
    },
    "tags": []
   },
   "source": [
    "# **HyperParameter Tuning - Model 1**"
   ]
  },
  {
   "cell_type": "code",
   "execution_count": 36,
   "id": "51ad0c97",
   "metadata": {
    "execution": {
     "iopub.execute_input": "2024-04-01T04:34:55.354300Z",
     "iopub.status.busy": "2024-04-01T04:34:55.353749Z",
     "iopub.status.idle": "2024-04-01T04:34:55.358802Z",
     "shell.execute_reply": "2024-04-01T04:34:55.357594Z"
    },
    "papermill": {
     "duration": 0.028299,
     "end_time": "2024-04-01T04:34:55.360832",
     "exception": false,
     "start_time": "2024-04-01T04:34:55.332533",
     "status": "completed"
    },
    "tags": []
   },
   "outputs": [],
   "source": [
    "Kfold = StratifiedKFold(n_splits=3,shuffle=True,random_state=42)"
   ]
  },
  {
   "cell_type": "code",
   "execution_count": 37,
   "id": "43aedba4",
   "metadata": {
    "execution": {
     "iopub.execute_input": "2024-04-01T04:34:55.401186Z",
     "iopub.status.busy": "2024-04-01T04:34:55.400546Z",
     "iopub.status.idle": "2024-04-01T04:34:55.404616Z",
     "shell.execute_reply": "2024-04-01T04:34:55.403868Z"
    },
    "papermill": {
     "duration": 0.026296,
     "end_time": "2024-04-01T04:34:55.406483",
     "exception": false,
     "start_time": "2024-04-01T04:34:55.380187",
     "status": "completed"
    },
    "tags": []
   },
   "outputs": [],
   "source": [
    "# params1 = {'xgb__objective' :['binary:logistic','multi: softmax'],'xgb__num_class':[6],'xgb__class_weight':['None'],'xgb__eta':[0.1],'xgb__max_depth':[3,5,7,9,12],'xgb__gamma' :[0.1],'xgb__scale_pos_weight' : [1]}\n",
    "# #params1f ={'xgb__objective' :['binary:logistic','multi: softmax'],'xgb__num_class':[6],'xgb__class_weight':['None','balanced'],'xgb__eta':[0.1],'xgb__max_depth':[3,5,7,9],'xgb__gamma' :[0.1],'xgb__scale_pos_weight' : [1]}\n",
    "# gs1 = GridSearchCV(pipe1b,param_grid=params1,cv=Kfold,scoring='accuracy',verbose=4)\n",
    "# gs1.fit(x_train,y_train)\n",
    "# gs1.best_estimator_.score(xval,yval)"
   ]
  },
  {
   "cell_type": "code",
   "execution_count": 38,
   "id": "b7a81812",
   "metadata": {
    "execution": {
     "iopub.execute_input": "2024-04-01T04:34:55.448549Z",
     "iopub.status.busy": "2024-04-01T04:34:55.447846Z",
     "iopub.status.idle": "2024-04-01T04:34:55.451674Z",
     "shell.execute_reply": "2024-04-01T04:34:55.450896Z"
    },
    "papermill": {
     "duration": 0.027648,
     "end_time": "2024-04-01T04:34:55.453723",
     "exception": false,
     "start_time": "2024-04-01T04:34:55.426075",
     "status": "completed"
    },
    "tags": []
   },
   "outputs": [],
   "source": [
    "# gs1.best_estimator_.score(x_test,y_test)"
   ]
  },
  {
   "cell_type": "code",
   "execution_count": 39,
   "id": "1900f95d",
   "metadata": {
    "execution": {
     "iopub.execute_input": "2024-04-01T04:34:55.494156Z",
     "iopub.status.busy": "2024-04-01T04:34:55.493451Z",
     "iopub.status.idle": "2024-04-01T04:34:55.497230Z",
     "shell.execute_reply": "2024-04-01T04:34:55.496442Z"
    },
    "papermill": {
     "duration": 0.026267,
     "end_time": "2024-04-01T04:34:55.499198",
     "exception": false,
     "start_time": "2024-04-01T04:34:55.472931",
     "status": "completed"
    },
    "tags": []
   },
   "outputs": [],
   "source": [
    "# gs1.best_estimator_.score(x_test,y_test)"
   ]
  },
  {
   "cell_type": "code",
   "execution_count": 40,
   "id": "f2230d7d",
   "metadata": {
    "execution": {
     "iopub.execute_input": "2024-04-01T04:34:55.539872Z",
     "iopub.status.busy": "2024-04-01T04:34:55.539251Z",
     "iopub.status.idle": "2024-04-01T04:34:55.543246Z",
     "shell.execute_reply": "2024-04-01T04:34:55.542431Z"
    },
    "papermill": {
     "duration": 0.026215,
     "end_time": "2024-04-01T04:34:55.545305",
     "exception": false,
     "start_time": "2024-04-01T04:34:55.519090",
     "status": "completed"
    },
    "tags": []
   },
   "outputs": [],
   "source": [
    "# params1a = {'xgb__objective' :['binary:logistic'],'xgb__num_class':[6],'xgb__class_weight':['None'],'xgb__eta':[0.1],'xgb__max_depth':[5,7,9],'xgb__min_child_weight' :[1,3,5],'xgb__gamma' :[0],'xgb__scale_pos_weight' : [1]}\n",
    "# #params1f ={'xgb__objective' :['binary:logistic','multi: softmax'],'xgb__num_class':[6],'xgb__class_weight':['None','balanced'],'xgb__eta':[0.1],'xgb__max_depth':[3,5,7,9],'xgb__gamma' :[0.1],'xgb__scale_pos_weight' : [1]}\n",
    "# gs1a = GridSearchCV(pipe1a,param_grid=params1a,cv=Kfold,scoring='accuracy',verbose=4)\n",
    "# gs1a.fit(x_train,y_train)\n",
    "# gs1a.best_estimator_.score(xval,yval)"
   ]
  },
  {
   "cell_type": "code",
   "execution_count": 41,
   "id": "e643e1da",
   "metadata": {
    "execution": {
     "iopub.execute_input": "2024-04-01T04:34:55.584916Z",
     "iopub.status.busy": "2024-04-01T04:34:55.584298Z",
     "iopub.status.idle": "2024-04-01T04:34:55.587730Z",
     "shell.execute_reply": "2024-04-01T04:34:55.587025Z"
    },
    "papermill": {
     "duration": 0.025287,
     "end_time": "2024-04-01T04:34:55.589671",
     "exception": false,
     "start_time": "2024-04-01T04:34:55.564384",
     "status": "completed"
    },
    "tags": []
   },
   "outputs": [],
   "source": [
    "# gs1a.best_params_"
   ]
  },
  {
   "cell_type": "code",
   "execution_count": 42,
   "id": "22a282c4",
   "metadata": {
    "execution": {
     "iopub.execute_input": "2024-04-01T04:34:55.628908Z",
     "iopub.status.busy": "2024-04-01T04:34:55.628291Z",
     "iopub.status.idle": "2024-04-01T04:34:55.632027Z",
     "shell.execute_reply": "2024-04-01T04:34:55.631332Z"
    },
    "papermill": {
     "duration": 0.025527,
     "end_time": "2024-04-01T04:34:55.633930",
     "exception": false,
     "start_time": "2024-04-01T04:34:55.608403",
     "status": "completed"
    },
    "tags": []
   },
   "outputs": [],
   "source": [
    "# params1a = {'xgb__objective' :['binary:logistic'],'xgb__num_class':[6],'xgb__class_weight':['None'],'xgb__eta':[0.1],'xgb__max_depth':[7],'xgb__min_child_weight' :[3],'xgb__gamma' :[0,0.1,0.2,0.3,0.4],'xgb__scale_pos_weight' : [1]}\n",
    "# #params1f ={'xgb__objective' :['binary:logistic','multi: softmax'],'xgb__num_class':[6],'xgb__class_weight':['None','balanced'],'xgb__eta':[0.1],'xgb__max_depth':[3,5,7,9],'xgb__gamma' :[0.1],'xgb__scale_pos_weight' : [1]}\n",
    "# gs1a = GridSearchCV(pipe1a,param_grid=params1a,cv=Kfold,scoring='accuracy',verbose=4)\n",
    "# gs1a.fit(x_train,y_train)\n",
    "# gs1a.best_estimator_.score(xval,yval) # gamma =0.3"
   ]
  },
  {
   "cell_type": "code",
   "execution_count": 43,
   "id": "0baeb71e",
   "metadata": {
    "execution": {
     "iopub.execute_input": "2024-04-01T04:34:55.673579Z",
     "iopub.status.busy": "2024-04-01T04:34:55.672514Z",
     "iopub.status.idle": "2024-04-01T04:34:55.676862Z",
     "shell.execute_reply": "2024-04-01T04:34:55.676105Z"
    },
    "papermill": {
     "duration": 0.026184,
     "end_time": "2024-04-01T04:34:55.679066",
     "exception": false,
     "start_time": "2024-04-01T04:34:55.652882",
     "status": "completed"
    },
    "tags": []
   },
   "outputs": [],
   "source": [
    "# params1a = {'xgb__objective' :['binary:logistic'],'xgb__num_class':[6],'xgb__class_weight':['None'],'xgb__eta':[0.1],'xgb__max_depth':[7],'xgb__min_child_weight' :[3],'xgb__gamma' :[0.3],'xgb__scale_pos_weight' : [1],'xgb__subsample':[i/10.0 for i in range(6,10)],\n",
    "#  'xgb__colsample_bytree':[i/10.0 for i in range(6,10)]}\n",
    "# gs1a = GridSearchCV(pipe1a,param_grid=params1a,cv=Kfold,scoring='accuracy',verbose=4)\n",
    "# gs1a.fit(x,y)"
   ]
  },
  {
   "cell_type": "code",
   "execution_count": 44,
   "id": "392d6083",
   "metadata": {
    "execution": {
     "iopub.execute_input": "2024-04-01T04:34:55.718416Z",
     "iopub.status.busy": "2024-04-01T04:34:55.718041Z",
     "iopub.status.idle": "2024-04-01T04:34:55.721974Z",
     "shell.execute_reply": "2024-04-01T04:34:55.721067Z"
    },
    "papermill": {
     "duration": 0.026053,
     "end_time": "2024-04-01T04:34:55.724054",
     "exception": false,
     "start_time": "2024-04-01T04:34:55.698001",
     "status": "completed"
    },
    "tags": []
   },
   "outputs": [],
   "source": [
    "# gs1a.best_params_"
   ]
  },
  {
   "cell_type": "markdown",
   "id": "03724e5b",
   "metadata": {
    "papermill": {
     "duration": 0.018055,
     "end_time": "2024-04-01T04:34:55.760562",
     "exception": false,
     "start_time": "2024-04-01T04:34:55.742507",
     "status": "completed"
    },
    "tags": []
   },
   "source": [
    "{'xgb__class_weight': 'None',\n",
    " 'xgb__colsample_bytree': 0.6,\n",
    " 'xgb__eta': 0.1,\n",
    " 'xgb__gamma': 0.3,\n",
    " 'xgb__max_depth': 7,\n",
    " 'xgb__min_child_weight': 3,\n",
    " 'xgb__num_class': 6,\n",
    " 'xgb__objective': 'binary:logistic',\n",
    " 'xgb__scale_pos_weight': 1,\n",
    " 'xgb__subsample': 0.8}"
   ]
  },
  {
   "cell_type": "code",
   "execution_count": 45,
   "id": "db56c642",
   "metadata": {
    "execution": {
     "iopub.execute_input": "2024-04-01T04:34:55.799149Z",
     "iopub.status.busy": "2024-04-01T04:34:55.798748Z",
     "iopub.status.idle": "2024-04-01T04:34:55.803195Z",
     "shell.execute_reply": "2024-04-01T04:34:55.802233Z"
    },
    "papermill": {
     "duration": 0.026192,
     "end_time": "2024-04-01T04:34:55.805242",
     "exception": false,
     "start_time": "2024-04-01T04:34:55.779050",
     "status": "completed"
    },
    "tags": []
   },
   "outputs": [],
   "source": [
    "# params1a = {'xgb__objective' :['binary:logistic'],'xgb__num_class':[6],'xgb__class_weight':['None'],'xgb__eta':[0.1],'xgb__max_depth':[7],'xgb__min_child_weight' :[3],'xgb__gamma' :[0.3],'xgb__scale_pos_weight' : [1],'xgb__subsample':[0.8],\n",
    "#   'xgb__colsample_bytree':[0.6]}\n",
    "# #params1a = {'xgb__objective' :['binary:logistic']}\n",
    "# gs1a = GridSearchCV(pipe1a,param_grid=params1a,cv=Kfold,scoring='accuracy',verbose=4)\n",
    "# gs1a.fit(x,y)\n",
    "# score1 = gs1a.score(xval,yval)"
   ]
  },
  {
   "cell_type": "code",
   "execution_count": 46,
   "id": "e4db9c1f",
   "metadata": {
    "execution": {
     "iopub.execute_input": "2024-04-01T04:34:55.843294Z",
     "iopub.status.busy": "2024-04-01T04:34:55.842899Z",
     "iopub.status.idle": "2024-04-01T04:36:03.378166Z",
     "shell.execute_reply": "2024-04-01T04:36:03.377411Z"
    },
    "papermill": {
     "duration": 67.576352,
     "end_time": "2024-04-01T04:36:03.399945",
     "exception": false,
     "start_time": "2024-04-01T04:34:55.823593",
     "status": "completed"
    },
    "tags": []
   },
   "outputs": [
    {
     "name": "stdout",
     "output_type": "stream",
     "text": [
      "Fitting 3 folds for each of 1 candidates, totalling 3 fits\n"
     ]
    },
    {
     "name": "stderr",
     "output_type": "stream",
     "text": [
      "/opt/conda/lib/python3.10/site-packages/xgboost/core.py:160: UserWarning: [04:34:56] WARNING: /workspace/src/learner.cc:742: \n",
      "Parameters: { \"class_weight\", \"scale_pos_weight\" } are not used.\n",
      "\n",
      "  warnings.warn(smsg, UserWarning)\n"
     ]
    },
    {
     "name": "stdout",
     "output_type": "stream",
     "text": [
      "[CV 1/3] END xgb__class_weight=None, xgb__colsample_bytree=0.6, xgb__eta=0.1, xgb__gamma=0.3, xgb__max_depth=7, xgb__min_child_weight=3, xgb__num_class=6, xgb__objective=binary:logistic, xgb__scale_pos_weight=1, xgb__subsample=0.8;, score=0.774 total time=  14.8s\n"
     ]
    },
    {
     "name": "stderr",
     "output_type": "stream",
     "text": [
      "/opt/conda/lib/python3.10/site-packages/xgboost/core.py:160: UserWarning: [04:35:11] WARNING: /workspace/src/learner.cc:742: \n",
      "Parameters: { \"class_weight\", \"scale_pos_weight\" } are not used.\n",
      "\n",
      "  warnings.warn(smsg, UserWarning)\n"
     ]
    },
    {
     "name": "stdout",
     "output_type": "stream",
     "text": [
      "[CV 2/3] END xgb__class_weight=None, xgb__colsample_bytree=0.6, xgb__eta=0.1, xgb__gamma=0.3, xgb__max_depth=7, xgb__min_child_weight=3, xgb__num_class=6, xgb__objective=binary:logistic, xgb__scale_pos_weight=1, xgb__subsample=0.8;, score=0.773 total time=  15.3s\n"
     ]
    },
    {
     "name": "stderr",
     "output_type": "stream",
     "text": [
      "/opt/conda/lib/python3.10/site-packages/xgboost/core.py:160: UserWarning: [04:35:26] WARNING: /workspace/src/learner.cc:742: \n",
      "Parameters: { \"class_weight\", \"scale_pos_weight\" } are not used.\n",
      "\n",
      "  warnings.warn(smsg, UserWarning)\n"
     ]
    },
    {
     "name": "stdout",
     "output_type": "stream",
     "text": [
      "[CV 3/3] END xgb__class_weight=None, xgb__colsample_bytree=0.6, xgb__eta=0.1, xgb__gamma=0.3, xgb__max_depth=7, xgb__min_child_weight=3, xgb__num_class=6, xgb__objective=binary:logistic, xgb__scale_pos_weight=1, xgb__subsample=0.8;, score=0.775 total time=  14.5s\n"
     ]
    },
    {
     "name": "stderr",
     "output_type": "stream",
     "text": [
      "/opt/conda/lib/python3.10/site-packages/xgboost/core.py:160: UserWarning: [04:35:41] WARNING: /workspace/src/learner.cc:742: \n",
      "Parameters: { \"class_weight\", \"scale_pos_weight\" } are not used.\n",
      "\n",
      "  warnings.warn(smsg, UserWarning)\n"
     ]
    },
    {
     "data": {
      "text/html": [
       "<style>#sk-container-id-1 {color: black;background-color: white;}#sk-container-id-1 pre{padding: 0;}#sk-container-id-1 div.sk-toggleable {background-color: white;}#sk-container-id-1 label.sk-toggleable__label {cursor: pointer;display: block;width: 100%;margin-bottom: 0;padding: 0.3em;box-sizing: border-box;text-align: center;}#sk-container-id-1 label.sk-toggleable__label-arrow:before {content: \"▸\";float: left;margin-right: 0.25em;color: #696969;}#sk-container-id-1 label.sk-toggleable__label-arrow:hover:before {color: black;}#sk-container-id-1 div.sk-estimator:hover label.sk-toggleable__label-arrow:before {color: black;}#sk-container-id-1 div.sk-toggleable__content {max-height: 0;max-width: 0;overflow: hidden;text-align: left;background-color: #f0f8ff;}#sk-container-id-1 div.sk-toggleable__content pre {margin: 0.2em;color: black;border-radius: 0.25em;background-color: #f0f8ff;}#sk-container-id-1 input.sk-toggleable__control:checked~div.sk-toggleable__content {max-height: 200px;max-width: 100%;overflow: auto;}#sk-container-id-1 input.sk-toggleable__control:checked~label.sk-toggleable__label-arrow:before {content: \"▾\";}#sk-container-id-1 div.sk-estimator input.sk-toggleable__control:checked~label.sk-toggleable__label {background-color: #d4ebff;}#sk-container-id-1 div.sk-label input.sk-toggleable__control:checked~label.sk-toggleable__label {background-color: #d4ebff;}#sk-container-id-1 input.sk-hidden--visually {border: 0;clip: rect(1px 1px 1px 1px);clip: rect(1px, 1px, 1px, 1px);height: 1px;margin: -1px;overflow: hidden;padding: 0;position: absolute;width: 1px;}#sk-container-id-1 div.sk-estimator {font-family: monospace;background-color: #f0f8ff;border: 1px dotted black;border-radius: 0.25em;box-sizing: border-box;margin-bottom: 0.5em;}#sk-container-id-1 div.sk-estimator:hover {background-color: #d4ebff;}#sk-container-id-1 div.sk-parallel-item::after {content: \"\";width: 100%;border-bottom: 1px solid gray;flex-grow: 1;}#sk-container-id-1 div.sk-label:hover label.sk-toggleable__label {background-color: #d4ebff;}#sk-container-id-1 div.sk-serial::before {content: \"\";position: absolute;border-left: 1px solid gray;box-sizing: border-box;top: 0;bottom: 0;left: 50%;z-index: 0;}#sk-container-id-1 div.sk-serial {display: flex;flex-direction: column;align-items: center;background-color: white;padding-right: 0.2em;padding-left: 0.2em;position: relative;}#sk-container-id-1 div.sk-item {position: relative;z-index: 1;}#sk-container-id-1 div.sk-parallel {display: flex;align-items: stretch;justify-content: center;background-color: white;position: relative;}#sk-container-id-1 div.sk-item::before, #sk-container-id-1 div.sk-parallel-item::before {content: \"\";position: absolute;border-left: 1px solid gray;box-sizing: border-box;top: 0;bottom: 0;left: 50%;z-index: -1;}#sk-container-id-1 div.sk-parallel-item {display: flex;flex-direction: column;z-index: 1;position: relative;background-color: white;}#sk-container-id-1 div.sk-parallel-item:first-child::after {align-self: flex-end;width: 50%;}#sk-container-id-1 div.sk-parallel-item:last-child::after {align-self: flex-start;width: 50%;}#sk-container-id-1 div.sk-parallel-item:only-child::after {width: 0;}#sk-container-id-1 div.sk-dashed-wrapped {border: 1px dashed gray;margin: 0 0.4em 0.5em 0.4em;box-sizing: border-box;padding-bottom: 0.4em;background-color: white;}#sk-container-id-1 div.sk-label label {font-family: monospace;font-weight: bold;display: inline-block;line-height: 1.2em;}#sk-container-id-1 div.sk-label-container {text-align: center;}#sk-container-id-1 div.sk-container {/* jupyter's `normalize.less` sets `[hidden] { display: none; }` but bootstrap.min.css set `[hidden] { display: none !important; }` so we also need the `!important` here to be able to override the default hidden behavior on the sphinx rendered scikit-learn.org. See: https://github.com/scikit-learn/scikit-learn/issues/21755 */display: inline-block !important;position: relative;}#sk-container-id-1 div.sk-text-repr-fallback {display: none;}</style><div id=\"sk-container-id-1\" class=\"sk-top-container\"><div class=\"sk-text-repr-fallback\"><pre>GridSearchCV(cv=StratifiedKFold(n_splits=3, random_state=42, shuffle=True),\n",
       "             estimator=Pipeline(steps=[(&#x27;trans&#x27;,\n",
       "                                        ColumnTransformer(transformers=[(&#x27;minmax&#x27;,\n",
       "                                                                         MinMaxScaler(),\n",
       "                                                                         [&#x27;RecipeNumber&#x27;,\n",
       "                                                                          &#x27;BestScore&#x27;,\n",
       "                                                                          &#x27;UserReputation&#x27;,\n",
       "                                                                          &#x27;ThumbsUpCount&#x27;,\n",
       "                                                                          &#x27;ThumbsDownCount&#x27;,\n",
       "                                                                          &#x27;day&#x27;,\n",
       "                                                                          &#x27;time&#x27;,\n",
       "                                                                          &#x27;ReplyCount&#x27;]),\n",
       "                                                                        (&#x27;ohe&#x27;,\n",
       "                                                                         OneHotEncoder(),\n",
       "                                                                         [&#x27;RecipeCode&#x27;]),\n",
       "                                                                        (&#x27;tfidf&#x27;,\n",
       "                                                                         TfidfVectorizer(max_features=2...\n",
       "                                                      num_parallel_tree=None,\n",
       "                                                      objective=&#x27;multi:softprob&#x27;, ...))]),\n",
       "             param_grid={&#x27;xgb__class_weight&#x27;: [&#x27;None&#x27;],\n",
       "                         &#x27;xgb__colsample_bytree&#x27;: [0.6], &#x27;xgb__eta&#x27;: [0.1],\n",
       "                         &#x27;xgb__gamma&#x27;: [0.3], &#x27;xgb__max_depth&#x27;: [7],\n",
       "                         &#x27;xgb__min_child_weight&#x27;: [3], &#x27;xgb__num_class&#x27;: [6],\n",
       "                         &#x27;xgb__objective&#x27;: [&#x27;binary:logistic&#x27;],\n",
       "                         &#x27;xgb__scale_pos_weight&#x27;: [1],\n",
       "                         &#x27;xgb__subsample&#x27;: [0.8]},\n",
       "             scoring=&#x27;accuracy&#x27;, verbose=4)</pre><b>In a Jupyter environment, please rerun this cell to show the HTML representation or trust the notebook. <br />On GitHub, the HTML representation is unable to render, please try loading this page with nbviewer.org.</b></div><div class=\"sk-container\" hidden><div class=\"sk-item sk-dashed-wrapped\"><div class=\"sk-label-container\"><div class=\"sk-label sk-toggleable\"><input class=\"sk-toggleable__control sk-hidden--visually\" id=\"sk-estimator-id-1\" type=\"checkbox\" ><label for=\"sk-estimator-id-1\" class=\"sk-toggleable__label sk-toggleable__label-arrow\">GridSearchCV</label><div class=\"sk-toggleable__content\"><pre>GridSearchCV(cv=StratifiedKFold(n_splits=3, random_state=42, shuffle=True),\n",
       "             estimator=Pipeline(steps=[(&#x27;trans&#x27;,\n",
       "                                        ColumnTransformer(transformers=[(&#x27;minmax&#x27;,\n",
       "                                                                         MinMaxScaler(),\n",
       "                                                                         [&#x27;RecipeNumber&#x27;,\n",
       "                                                                          &#x27;BestScore&#x27;,\n",
       "                                                                          &#x27;UserReputation&#x27;,\n",
       "                                                                          &#x27;ThumbsUpCount&#x27;,\n",
       "                                                                          &#x27;ThumbsDownCount&#x27;,\n",
       "                                                                          &#x27;day&#x27;,\n",
       "                                                                          &#x27;time&#x27;,\n",
       "                                                                          &#x27;ReplyCount&#x27;]),\n",
       "                                                                        (&#x27;ohe&#x27;,\n",
       "                                                                         OneHotEncoder(),\n",
       "                                                                         [&#x27;RecipeCode&#x27;]),\n",
       "                                                                        (&#x27;tfidf&#x27;,\n",
       "                                                                         TfidfVectorizer(max_features=2...\n",
       "                                                      num_parallel_tree=None,\n",
       "                                                      objective=&#x27;multi:softprob&#x27;, ...))]),\n",
       "             param_grid={&#x27;xgb__class_weight&#x27;: [&#x27;None&#x27;],\n",
       "                         &#x27;xgb__colsample_bytree&#x27;: [0.6], &#x27;xgb__eta&#x27;: [0.1],\n",
       "                         &#x27;xgb__gamma&#x27;: [0.3], &#x27;xgb__max_depth&#x27;: [7],\n",
       "                         &#x27;xgb__min_child_weight&#x27;: [3], &#x27;xgb__num_class&#x27;: [6],\n",
       "                         &#x27;xgb__objective&#x27;: [&#x27;binary:logistic&#x27;],\n",
       "                         &#x27;xgb__scale_pos_weight&#x27;: [1],\n",
       "                         &#x27;xgb__subsample&#x27;: [0.8]},\n",
       "             scoring=&#x27;accuracy&#x27;, verbose=4)</pre></div></div></div><div class=\"sk-parallel\"><div class=\"sk-parallel-item\"><div class=\"sk-item\"><div class=\"sk-label-container\"><div class=\"sk-label sk-toggleable\"><input class=\"sk-toggleable__control sk-hidden--visually\" id=\"sk-estimator-id-2\" type=\"checkbox\" ><label for=\"sk-estimator-id-2\" class=\"sk-toggleable__label sk-toggleable__label-arrow\">estimator: Pipeline</label><div class=\"sk-toggleable__content\"><pre>Pipeline(steps=[(&#x27;trans&#x27;,\n",
       "                 ColumnTransformer(transformers=[(&#x27;minmax&#x27;, MinMaxScaler(),\n",
       "                                                  [&#x27;RecipeNumber&#x27;, &#x27;BestScore&#x27;,\n",
       "                                                   &#x27;UserReputation&#x27;,\n",
       "                                                   &#x27;ThumbsUpCount&#x27;,\n",
       "                                                   &#x27;ThumbsDownCount&#x27;, &#x27;day&#x27;,\n",
       "                                                   &#x27;time&#x27;, &#x27;ReplyCount&#x27;]),\n",
       "                                                 (&#x27;ohe&#x27;, OneHotEncoder(),\n",
       "                                                  [&#x27;RecipeCode&#x27;]),\n",
       "                                                 (&#x27;tfidf&#x27;,\n",
       "                                                  TfidfVectorizer(max_features=2500,\n",
       "                                                                  ngram_range=(1,\n",
       "                                                                               3)),\n",
       "                                                  &#x27;Cleaned&#x27;),\n",
       "                                                 (&#x27;tfidf2&#x27;, TfidfVectorizer(),\n",
       "                                                  &#x27;RecipeName&#x27;)])),\n",
       "                (&#x27;xg...\n",
       "                               feature_types=None, gamma=None, grow_policy=None,\n",
       "                               importance_type=None,\n",
       "                               interaction_constraints=None, learning_rate=None,\n",
       "                               max_bin=None, max_cat_threshold=None,\n",
       "                               max_cat_to_onehot=None, max_delta_step=None,\n",
       "                               max_depth=None, max_leaves=None,\n",
       "                               min_child_weight=None, missing=nan,\n",
       "                               monotone_constraints=None, multi_strategy=None,\n",
       "                               n_estimators=None, n_jobs=None,\n",
       "                               num_parallel_tree=None,\n",
       "                               objective=&#x27;multi:softprob&#x27;, ...))])</pre></div></div></div><div class=\"sk-serial\"><div class=\"sk-item\"><div class=\"sk-serial\"><div class=\"sk-item sk-dashed-wrapped\"><div class=\"sk-label-container\"><div class=\"sk-label sk-toggleable\"><input class=\"sk-toggleable__control sk-hidden--visually\" id=\"sk-estimator-id-3\" type=\"checkbox\" ><label for=\"sk-estimator-id-3\" class=\"sk-toggleable__label sk-toggleable__label-arrow\">trans: ColumnTransformer</label><div class=\"sk-toggleable__content\"><pre>ColumnTransformer(transformers=[(&#x27;minmax&#x27;, MinMaxScaler(),\n",
       "                                 [&#x27;RecipeNumber&#x27;, &#x27;BestScore&#x27;, &#x27;UserReputation&#x27;,\n",
       "                                  &#x27;ThumbsUpCount&#x27;, &#x27;ThumbsDownCount&#x27;, &#x27;day&#x27;,\n",
       "                                  &#x27;time&#x27;, &#x27;ReplyCount&#x27;]),\n",
       "                                (&#x27;ohe&#x27;, OneHotEncoder(), [&#x27;RecipeCode&#x27;]),\n",
       "                                (&#x27;tfidf&#x27;,\n",
       "                                 TfidfVectorizer(max_features=2500,\n",
       "                                                 ngram_range=(1, 3)),\n",
       "                                 &#x27;Cleaned&#x27;),\n",
       "                                (&#x27;tfidf2&#x27;, TfidfVectorizer(), &#x27;RecipeName&#x27;)])</pre></div></div></div><div class=\"sk-parallel\"><div class=\"sk-parallel-item\"><div class=\"sk-item\"><div class=\"sk-label-container\"><div class=\"sk-label sk-toggleable\"><input class=\"sk-toggleable__control sk-hidden--visually\" id=\"sk-estimator-id-4\" type=\"checkbox\" ><label for=\"sk-estimator-id-4\" class=\"sk-toggleable__label sk-toggleable__label-arrow\">minmax</label><div class=\"sk-toggleable__content\"><pre>[&#x27;RecipeNumber&#x27;, &#x27;BestScore&#x27;, &#x27;UserReputation&#x27;, &#x27;ThumbsUpCount&#x27;, &#x27;ThumbsDownCount&#x27;, &#x27;day&#x27;, &#x27;time&#x27;, &#x27;ReplyCount&#x27;]</pre></div></div></div><div class=\"sk-serial\"><div class=\"sk-item\"><div class=\"sk-estimator sk-toggleable\"><input class=\"sk-toggleable__control sk-hidden--visually\" id=\"sk-estimator-id-5\" type=\"checkbox\" ><label for=\"sk-estimator-id-5\" class=\"sk-toggleable__label sk-toggleable__label-arrow\">MinMaxScaler</label><div class=\"sk-toggleable__content\"><pre>MinMaxScaler()</pre></div></div></div></div></div></div><div class=\"sk-parallel-item\"><div class=\"sk-item\"><div class=\"sk-label-container\"><div class=\"sk-label sk-toggleable\"><input class=\"sk-toggleable__control sk-hidden--visually\" id=\"sk-estimator-id-6\" type=\"checkbox\" ><label for=\"sk-estimator-id-6\" class=\"sk-toggleable__label sk-toggleable__label-arrow\">ohe</label><div class=\"sk-toggleable__content\"><pre>[&#x27;RecipeCode&#x27;]</pre></div></div></div><div class=\"sk-serial\"><div class=\"sk-item\"><div class=\"sk-estimator sk-toggleable\"><input class=\"sk-toggleable__control sk-hidden--visually\" id=\"sk-estimator-id-7\" type=\"checkbox\" ><label for=\"sk-estimator-id-7\" class=\"sk-toggleable__label sk-toggleable__label-arrow\">OneHotEncoder</label><div class=\"sk-toggleable__content\"><pre>OneHotEncoder()</pre></div></div></div></div></div></div><div class=\"sk-parallel-item\"><div class=\"sk-item\"><div class=\"sk-label-container\"><div class=\"sk-label sk-toggleable\"><input class=\"sk-toggleable__control sk-hidden--visually\" id=\"sk-estimator-id-8\" type=\"checkbox\" ><label for=\"sk-estimator-id-8\" class=\"sk-toggleable__label sk-toggleable__label-arrow\">tfidf</label><div class=\"sk-toggleable__content\"><pre>Cleaned</pre></div></div></div><div class=\"sk-serial\"><div class=\"sk-item\"><div class=\"sk-estimator sk-toggleable\"><input class=\"sk-toggleable__control sk-hidden--visually\" id=\"sk-estimator-id-9\" type=\"checkbox\" ><label for=\"sk-estimator-id-9\" class=\"sk-toggleable__label sk-toggleable__label-arrow\">TfidfVectorizer</label><div class=\"sk-toggleable__content\"><pre>TfidfVectorizer(max_features=2500, ngram_range=(1, 3))</pre></div></div></div></div></div></div><div class=\"sk-parallel-item\"><div class=\"sk-item\"><div class=\"sk-label-container\"><div class=\"sk-label sk-toggleable\"><input class=\"sk-toggleable__control sk-hidden--visually\" id=\"sk-estimator-id-10\" type=\"checkbox\" ><label for=\"sk-estimator-id-10\" class=\"sk-toggleable__label sk-toggleable__label-arrow\">tfidf2</label><div class=\"sk-toggleable__content\"><pre>RecipeName</pre></div></div></div><div class=\"sk-serial\"><div class=\"sk-item\"><div class=\"sk-estimator sk-toggleable\"><input class=\"sk-toggleable__control sk-hidden--visually\" id=\"sk-estimator-id-11\" type=\"checkbox\" ><label for=\"sk-estimator-id-11\" class=\"sk-toggleable__label sk-toggleable__label-arrow\">TfidfVectorizer</label><div class=\"sk-toggleable__content\"><pre>TfidfVectorizer()</pre></div></div></div></div></div></div></div></div><div class=\"sk-item\"><div class=\"sk-estimator sk-toggleable\"><input class=\"sk-toggleable__control sk-hidden--visually\" id=\"sk-estimator-id-12\" type=\"checkbox\" ><label for=\"sk-estimator-id-12\" class=\"sk-toggleable__label sk-toggleable__label-arrow\">XGBClassifier</label><div class=\"sk-toggleable__content\"><pre>XGBClassifier(base_score=None, booster=None, callbacks=None,\n",
       "              colsample_bylevel=None, colsample_bynode=None,\n",
       "              colsample_bytree=None, device=None, early_stopping_rounds=None,\n",
       "              enable_categorical=False, eval_metric=None, feature_types=None,\n",
       "              gamma=None, grow_policy=None, importance_type=None,\n",
       "              interaction_constraints=None, learning_rate=None, max_bin=None,\n",
       "              max_cat_threshold=None, max_cat_to_onehot=None,\n",
       "              max_delta_step=None, max_depth=None, max_leaves=None,\n",
       "              min_child_weight=None, missing=nan, monotone_constraints=None,\n",
       "              multi_strategy=None, n_estimators=None, n_jobs=None,\n",
       "              num_parallel_tree=None, objective=&#x27;multi:softprob&#x27;, ...)</pre></div></div></div></div></div></div></div></div></div></div></div></div>"
      ],
      "text/plain": [
       "GridSearchCV(cv=StratifiedKFold(n_splits=3, random_state=42, shuffle=True),\n",
       "             estimator=Pipeline(steps=[('trans',\n",
       "                                        ColumnTransformer(transformers=[('minmax',\n",
       "                                                                         MinMaxScaler(),\n",
       "                                                                         ['RecipeNumber',\n",
       "                                                                          'BestScore',\n",
       "                                                                          'UserReputation',\n",
       "                                                                          'ThumbsUpCount',\n",
       "                                                                          'ThumbsDownCount',\n",
       "                                                                          'day',\n",
       "                                                                          'time',\n",
       "                                                                          'ReplyCount']),\n",
       "                                                                        ('ohe',\n",
       "                                                                         OneHotEncoder(),\n",
       "                                                                         ['RecipeCode']),\n",
       "                                                                        ('tfidf',\n",
       "                                                                         TfidfVectorizer(max_features=2...\n",
       "                                                      num_parallel_tree=None,\n",
       "                                                      objective='multi:softprob', ...))]),\n",
       "             param_grid={'xgb__class_weight': ['None'],\n",
       "                         'xgb__colsample_bytree': [0.6], 'xgb__eta': [0.1],\n",
       "                         'xgb__gamma': [0.3], 'xgb__max_depth': [7],\n",
       "                         'xgb__min_child_weight': [3], 'xgb__num_class': [6],\n",
       "                         'xgb__objective': ['binary:logistic'],\n",
       "                         'xgb__scale_pos_weight': [1],\n",
       "                         'xgb__subsample': [0.8]},\n",
       "             scoring='accuracy', verbose=4)"
      ]
     },
     "execution_count": 46,
     "metadata": {},
     "output_type": "execute_result"
    }
   ],
   "source": [
    "params1a = {'xgb__objective' :['binary:logistic'],'xgb__num_class':[6],'xgb__class_weight':['None'],'xgb__eta':[0.1],'xgb__max_depth':[7],'xgb__min_child_weight' :[3],'xgb__gamma' :[0.3],'xgb__scale_pos_weight' : [1],'xgb__subsample':[0.8],\n",
    " 'xgb__colsample_bytree':[0.6]}\n",
    "gs1a = GridSearchCV(pipe1a,param_grid=params1a,cv=Kfold,scoring='accuracy',verbose=4)\n",
    "gs1a.fit(x_train,y_train)"
   ]
  },
  {
   "cell_type": "code",
   "execution_count": 47,
   "id": "b389f863",
   "metadata": {
    "execution": {
     "iopub.execute_input": "2024-04-01T04:36:03.440787Z",
     "iopub.status.busy": "2024-04-01T04:36:03.439920Z",
     "iopub.status.idle": "2024-04-01T04:36:03.730197Z",
     "shell.execute_reply": "2024-04-01T04:36:03.729144Z"
    },
    "papermill": {
     "duration": 0.313334,
     "end_time": "2024-04-01T04:36:03.732691",
     "exception": false,
     "start_time": "2024-04-01T04:36:03.419357",
     "status": "completed"
    },
    "tags": []
   },
   "outputs": [],
   "source": [
    "score1 = gs1a.score(xval,yval)"
   ]
  },
  {
   "cell_type": "code",
   "execution_count": 48,
   "id": "b3f886a7",
   "metadata": {
    "execution": {
     "iopub.execute_input": "2024-04-01T04:36:03.773755Z",
     "iopub.status.busy": "2024-04-01T04:36:03.773387Z",
     "iopub.status.idle": "2024-04-01T04:36:04.060788Z",
     "shell.execute_reply": "2024-04-01T04:36:04.059721Z"
    },
    "papermill": {
     "duration": 0.310135,
     "end_time": "2024-04-01T04:36:04.062943",
     "exception": false,
     "start_time": "2024-04-01T04:36:03.752808",
     "status": "completed"
    },
    "tags": []
   },
   "outputs": [
    {
     "data": {
      "text/plain": [
       "array([[  17,    2,    0,    2,    2,  228],\n",
       "       [   1,    8,    1,    2,    1,   28],\n",
       "       [   3,    2,    0,    6,    3,   20],\n",
       "       [   6,    2,    0,    2,    3,   58],\n",
       "       [   3,    0,    1,    2,   13,  218],\n",
       "       [  12,    2,    1,    1,    6, 1995]])"
      ]
     },
     "execution_count": 48,
     "metadata": {},
     "output_type": "execute_result"
    }
   ],
   "source": [
    "confusion_matrix(y_test,gs1a.predict(x_test))"
   ]
  },
  {
   "cell_type": "code",
   "execution_count": 49,
   "id": "192607aa",
   "metadata": {
    "execution": {
     "iopub.execute_input": "2024-04-01T04:36:04.104180Z",
     "iopub.status.busy": "2024-04-01T04:36:04.103537Z",
     "iopub.status.idle": "2024-04-01T04:36:05.461528Z",
     "shell.execute_reply": "2024-04-01T04:36:05.460450Z"
    },
    "papermill": {
     "duration": 1.380965,
     "end_time": "2024-04-01T04:36:05.463552",
     "exception": false,
     "start_time": "2024-04-01T04:36:04.082587",
     "status": "completed"
    },
    "tags": []
   },
   "outputs": [
    {
     "data": {
      "text/plain": [
       "5    12402\n",
       "0      302\n",
       "4      273\n",
       "3      118\n",
       "1      112\n",
       "2       47\n",
       "Name: count, dtype: int64"
      ]
     },
     "execution_count": 49,
     "metadata": {},
     "output_type": "execute_result"
    }
   ],
   "source": [
    "pd.Series(gs1a.predict(x)).value_counts()"
   ]
  },
  {
   "cell_type": "markdown",
   "id": "2f475bec",
   "metadata": {
    "papermill": {
     "duration": 0.019435,
     "end_time": "2024-04-01T04:36:05.502721",
     "exception": false,
     "start_time": "2024-04-01T04:36:05.483286",
     "status": "completed"
    },
    "tags": []
   },
   "source": [
    "{'xgb__class_weight': 'None',\n",
    " 'xgb__eta': 0.1,\n",
    " 'xgb__gamma': 0.1,\n",
    " 'xgb__max_depth': 9,\n",
    " 'xgb__num_class': 6,\n",
    " 'xgb__objective': 'binary:logistic',\n",
    " 'xgb__scale_pos_weight': 1}"
   ]
  },
  {
   "cell_type": "markdown",
   "id": "3d6a2380",
   "metadata": {
    "papermill": {
     "duration": 0.019413,
     "end_time": "2024-04-01T04:36:05.541872",
     "exception": false,
     "start_time": "2024-04-01T04:36:05.522459",
     "status": "completed"
    },
    "tags": []
   },
   "source": [
    "# Hyperparameter Tuning - Model 2"
   ]
  },
  {
   "cell_type": "code",
   "execution_count": 50,
   "id": "e8461eea",
   "metadata": {
    "execution": {
     "iopub.execute_input": "2024-04-01T04:36:05.584915Z",
     "iopub.status.busy": "2024-04-01T04:36:05.584354Z",
     "iopub.status.idle": "2024-04-01T04:36:05.587680Z",
     "shell.execute_reply": "2024-04-01T04:36:05.587021Z"
    },
    "papermill": {
     "duration": 0.027881,
     "end_time": "2024-04-01T04:36:05.589514",
     "exception": false,
     "start_time": "2024-04-01T04:36:05.561633",
     "status": "completed"
    },
    "tags": []
   },
   "outputs": [],
   "source": [
    "# Kfold = StratifiedKFold(n_splits=2,shuffle=True,random_state=42)\n",
    "# pipe3 = Pipeline([('trans',colt),('rfc',RandomForestClassifier(random_state=42))])\n",
    "# pipe3.fit(x_train,y_train)\n",
    "# pipe3.score(x_test,y_test)\n"
   ]
  },
  {
   "cell_type": "code",
   "execution_count": 51,
   "id": "b06a278d",
   "metadata": {
    "execution": {
     "iopub.execute_input": "2024-04-01T04:36:05.631166Z",
     "iopub.status.busy": "2024-04-01T04:36:05.630499Z",
     "iopub.status.idle": "2024-04-01T04:36:05.634411Z",
     "shell.execute_reply": "2024-04-01T04:36:05.633737Z"
    },
    "papermill": {
     "duration": 0.027039,
     "end_time": "2024-04-01T04:36:05.636281",
     "exception": false,
     "start_time": "2024-04-01T04:36:05.609242",
     "status": "completed"
    },
    "tags": []
   },
   "outputs": [],
   "source": [
    "# tr =[]\n",
    "# val =[]\n",
    "# for i in range(2,3000,50):\n",
    "#     params3 = {'rfc__max_depth': ['None'],'rfc__min_samples_split':[i]}\n",
    "#     gs3 = GridSearchCV(pipe3,param_grid=params3,cv=Kfold,scoring='accuracy',verbose=4)\n",
    "#     gs3.fit(x_train,y_train)\n",
    "#     tr.append(f1_score(y_train,gs3.predict(x_train),average='weighted'))\n",
    "#     val.append(f1_score(y_test,gs3.predict(x_test),average='weighted'))\n",
    "# sns.lineplot(x=np.arange(0,3000,50),y=tr,label='Train score')\n",
    "# sns.lineplot(x=np.arange(0,3000,50),y=val,label='Test score')\n",
    "# plt.xlabel('F1 weighted')\n",
    "# plt.xlabel('min_samples_split')\n",
    "# plt.title('F1weighted vs min_samples_split') # val score and train score intersects at min_samples_split =1500"
   ]
  },
  {
   "cell_type": "code",
   "execution_count": 52,
   "id": "00eeae9f",
   "metadata": {
    "execution": {
     "iopub.execute_input": "2024-04-01T04:36:05.677899Z",
     "iopub.status.busy": "2024-04-01T04:36:05.677212Z",
     "iopub.status.idle": "2024-04-01T04:36:05.681366Z",
     "shell.execute_reply": "2024-04-01T04:36:05.680442Z"
    },
    "papermill": {
     "duration": 0.02718,
     "end_time": "2024-04-01T04:36:05.683346",
     "exception": false,
     "start_time": "2024-04-01T04:36:05.656166",
     "status": "completed"
    },
    "tags": []
   },
   "outputs": [],
   "source": [
    "# tr =[]\n",
    "# val =[]\n",
    "# for i in range(80,200,5):\n",
    "#     params3 = {'rfc__max_depth': [100],'rfc__min_samples_split':[2],'rfc__max_leaf_nodes':[i]}\n",
    "#     gs3 = GridSearchCV(pipe3,param_grid=params3,cv=Kfold,scoring='accuracy',verbose=4)\n",
    "#     gs3.fit(x_train,y_train)\n",
    "#     tr.append(accuracy_score(y_train,gs3.predict(x_train)))\n",
    "#     val.append(accuracy_score(y_test,gs3.predict(x_test)))\n",
    "# sns.lineplot(x=np.arange(80,200,5),y=tr,label='Train score')\n",
    "# sns.lineplot(x=np.arange(80,200,5),y=val,label='Test score')\n",
    "# plt.xlabel('Accuracy')\n",
    "# plt.xlabel('max_leaf_nodes')\n",
    "# plt.title('Accuracy vs max_leaf_nodes') # val score and train score intersects at max_leaf_nodes =165\n"
   ]
  },
  {
   "cell_type": "code",
   "execution_count": 53,
   "id": "c02545bf",
   "metadata": {
    "execution": {
     "iopub.execute_input": "2024-04-01T04:36:05.724810Z",
     "iopub.status.busy": "2024-04-01T04:36:05.724209Z",
     "iopub.status.idle": "2024-04-01T04:36:05.728209Z",
     "shell.execute_reply": "2024-04-01T04:36:05.727423Z"
    },
    "papermill": {
     "duration": 0.027105,
     "end_time": "2024-04-01T04:36:05.730123",
     "exception": false,
     "start_time": "2024-04-01T04:36:05.703018",
     "status": "completed"
    },
    "tags": []
   },
   "outputs": [],
   "source": [
    "\n",
    "# tr =[]\n",
    "# val =[]\n",
    "# for i in range(1,2000,50):\n",
    "#     params3 = {'rfc__max_depth': [100],'rfc__min_samples_split':[2],'rfc__max_leaf_nodes':[165],'rfc__min_samples_leaf':[i]}\n",
    "#     gs3 = GridSearchCV(pipe3,param_grid=params3,cv=Kfold,scoring='accuracy',verbose=4)\n",
    "#     gs3.fit(x_train,y_train)\n",
    "#     tr.append(f1_score(y_train,gs3.predict(x_train),average='weighted'))\n",
    "#     val.append(f1_score(y_test,gs3.predict(x_test),average='weighted'))\n",
    "# sns.lineplot(x=np.arange(1,2000,50),y=tr,label='Train score')\n",
    "# sns.lineplot(x=np.arange(1,2000,50),y=val,label='Test score')\n",
    "# plt.xlabel('Accuracy')\n",
    "# plt.xlabel('min_samples_leaf')\n",
    "# plt.title('Accuracy vs min_samples_leaf') # val score and train score intersects at min_samples_leaf =1\n"
   ]
  },
  {
   "cell_type": "code",
   "execution_count": 54,
   "id": "4685144d",
   "metadata": {
    "execution": {
     "iopub.execute_input": "2024-04-01T04:36:05.771288Z",
     "iopub.status.busy": "2024-04-01T04:36:05.770679Z",
     "iopub.status.idle": "2024-04-01T04:36:05.775132Z",
     "shell.execute_reply": "2024-04-01T04:36:05.774146Z"
    },
    "papermill": {
     "duration": 0.0275,
     "end_time": "2024-04-01T04:36:05.777182",
     "exception": false,
     "start_time": "2024-04-01T04:36:05.749682",
     "status": "completed"
    },
    "tags": []
   },
   "outputs": [],
   "source": [
    "\n",
    "# tr =[]\n",
    "# val =[]\n",
    "# for i in range(1,200,10):\n",
    "#     params3 = {'rfc__max_depth': [100],'rfc__min_samples_split':[2],'rfc__max_leaf_nodes':[165],'rfc__min_samples_leaf':[1],'rfc__n_estimators':[i]}\n",
    "#     gs3 = GridSearchCV(pipe3,param_grid=params3,cv=Kfold,scoring='accuracy',verbose=4)\n",
    "#     gs3.fit(x_train,y_train)\n",
    "#     tr.append(f1_score(y_train,gs3.predict(x_train),average='weighted'))\n",
    "#     val.append(f1_score(y_test,gs3.predict(x_test),average='weighted'))\n",
    "# sns.lineplot(x=np.arange(1,200,10),y=tr,label='Train score')\n",
    "# sns.lineplot(x=np.arange(1,200,10),y=val,label='Test score')\n",
    "# plt.xlabel('Accuracy')\n",
    "# plt.xlabel('n_estimators')\n",
    "# plt.title('Accuracy vs n_estimators') # val score and train score intersects at n_estimators =30\n"
   ]
  },
  {
   "cell_type": "code",
   "execution_count": 55,
   "id": "3046341a",
   "metadata": {
    "execution": {
     "iopub.execute_input": "2024-04-01T04:36:05.818619Z",
     "iopub.status.busy": "2024-04-01T04:36:05.818179Z",
     "iopub.status.idle": "2024-04-01T04:36:05.822653Z",
     "shell.execute_reply": "2024-04-01T04:36:05.821654Z"
    },
    "papermill": {
     "duration": 0.027737,
     "end_time": "2024-04-01T04:36:05.824824",
     "exception": false,
     "start_time": "2024-04-01T04:36:05.797087",
     "status": "completed"
    },
    "tags": []
   },
   "outputs": [],
   "source": [
    "\n",
    "# tr =[]\n",
    "# val =[]\n",
    "# for i in range(2,1000,50):\n",
    "#     params3 = {'rfc__max_depth': [100],'rfc__min_samples_split':[2],'rfc__max_leaf_nodes':[165],'rfc__min_samples_leaf':[1],'rfc__n_estimators':[150],'rfc__max_features':[i]}\n",
    "#     gs3 = GridSearchCV(pipe3,param_grid=params3,cv=Kfold,scoring='accuracy',verbose=4)\n",
    "#     gs3.fit(x_train,y_train)\n",
    "#     tr.append(gs3.score(x_train,y_train))\n",
    "#     val.append(gs3.score(x_test,y_test))\n",
    "# sns.lineplot(x=np.arange(2,1000,50),y=tr,label='Train score')\n",
    "# sns.lineplot(x=np.arange(2,1000,50),y=val,label='Test score')\n",
    "# plt.xlabel('Accuracy')\n",
    "# plt.xlabel('max_features')\n",
    "# plt.title('Accuracy vs max_features') # val score and train score intersects at max_features =500\n"
   ]
  },
  {
   "cell_type": "code",
   "execution_count": 56,
   "id": "49147bca",
   "metadata": {
    "execution": {
     "iopub.execute_input": "2024-04-01T04:36:05.865724Z",
     "iopub.status.busy": "2024-04-01T04:36:05.865347Z",
     "iopub.status.idle": "2024-04-01T04:37:12.850466Z",
     "shell.execute_reply": "2024-04-01T04:37:12.849674Z"
    },
    "papermill": {
     "duration": 67.008225,
     "end_time": "2024-04-01T04:37:12.852747",
     "exception": false,
     "start_time": "2024-04-01T04:36:05.844522",
     "status": "completed"
    },
    "tags": []
   },
   "outputs": [
    {
     "name": "stdout",
     "output_type": "stream",
     "text": [
      "Fitting 5 folds for each of 1 candidates, totalling 5 fits\n",
      "[CV 1/5] END rfc__max_depth=100, rfc__max_features=200, rfc__max_leaf_nodes=160, rfc__min_samples_leaf=1, rfc__min_samples_split=2, rfc__n_estimators=150;, score=0.767 total time=  11.3s\n",
      "[CV 2/5] END rfc__max_depth=100, rfc__max_features=200, rfc__max_leaf_nodes=160, rfc__min_samples_leaf=1, rfc__min_samples_split=2, rfc__n_estimators=150;, score=0.769 total time=  10.9s\n",
      "[CV 3/5] END rfc__max_depth=100, rfc__max_features=200, rfc__max_leaf_nodes=160, rfc__min_samples_leaf=1, rfc__min_samples_split=2, rfc__n_estimators=150;, score=0.770 total time=  11.1s\n",
      "[CV 4/5] END rfc__max_depth=100, rfc__max_features=200, rfc__max_leaf_nodes=160, rfc__min_samples_leaf=1, rfc__min_samples_split=2, rfc__n_estimators=150;, score=0.767 total time=  10.7s\n",
      "[CV 5/5] END rfc__max_depth=100, rfc__max_features=200, rfc__max_leaf_nodes=160, rfc__min_samples_leaf=1, rfc__min_samples_split=2, rfc__n_estimators=150;, score=0.769 total time=  10.5s\n"
     ]
    }
   ],
   "source": [
    "Kfold = StratifiedKFold(n_splits=5,shuffle=True,random_state=42)\n",
    "tr =[]\n",
    "val =[]\n",
    "params3 = {'rfc__max_depth': [100],'rfc__min_samples_split':[2],'rfc__max_leaf_nodes':[160],'rfc__min_samples_leaf':[1],'rfc__n_estimators':[150],'rfc__max_features':[200]}\n",
    "gs3 = GridSearchCV(pipe3,param_grid=params3,cv=Kfold,scoring='accuracy',verbose=4)\n",
    "gs3.fit(x_train,y_train)\n",
    "score3 = gs3.score(x_test,y_test)"
   ]
  },
  {
   "cell_type": "code",
   "execution_count": null,
   "id": "080d1e3e",
   "metadata": {
    "papermill": {
     "duration": 0.019706,
     "end_time": "2024-04-01T04:37:12.892739",
     "exception": false,
     "start_time": "2024-04-01T04:37:12.873033",
     "status": "completed"
    },
    "tags": []
   },
   "outputs": [],
   "source": []
  },
  {
   "cell_type": "markdown",
   "id": "3ce27c63",
   "metadata": {
    "papermill": {
     "duration": 0.019322,
     "end_time": "2024-04-01T04:37:12.931820",
     "exception": false,
     "start_time": "2024-04-01T04:37:12.912498",
     "status": "completed"
    },
    "tags": []
   },
   "source": [
    "# Model Evaluation"
   ]
  },
  {
   "cell_type": "code",
   "execution_count": 57,
   "id": "bfa06a9b",
   "metadata": {
    "execution": {
     "iopub.execute_input": "2024-04-01T04:37:12.973142Z",
     "iopub.status.busy": "2024-04-01T04:37:12.972530Z",
     "iopub.status.idle": "2024-04-01T04:37:13.156049Z",
     "shell.execute_reply": "2024-04-01T04:37:13.154999Z"
    },
    "papermill": {
     "duration": 0.206509,
     "end_time": "2024-04-01T04:37:13.158186",
     "exception": false,
     "start_time": "2024-04-01T04:37:12.951677",
     "status": "completed"
    },
    "tags": []
   },
   "outputs": [
    {
     "data": {
      "text/plain": [
       "<Axes: >"
      ]
     },
     "execution_count": 57,
     "metadata": {},
     "output_type": "execute_result"
    },
    {
     "data": {
      "image/png": "[encoded data removed]",
      "text/plain": [
       "<Figure size 640x480 with 1 Axes>"
      ]
     },
     "metadata": {},
     "output_type": "display_data"
    }
   ],
   "source": [
    "score = [score1,score2,score3,score4]\n",
    "models =['XGBClassifier','LogisticReg','RandomForestClassifier','LGB']\n",
    "sns.scatterplot(x = models,y=score)"
   ]
  },
  {
   "cell_type": "code",
   "execution_count": 58,
   "id": "043ee242",
   "metadata": {
    "execution": {
     "iopub.execute_input": "2024-04-01T04:37:13.201187Z",
     "iopub.status.busy": "2024-04-01T04:37:13.200482Z",
     "iopub.status.idle": "2024-04-01T04:37:53.304520Z",
     "shell.execute_reply": "2024-04-01T04:37:53.303442Z"
    },
    "papermill": {
     "duration": 40.149611,
     "end_time": "2024-04-01T04:37:53.328411",
     "exception": false,
     "start_time": "2024-04-01T04:37:13.178800",
     "status": "completed"
    },
    "tags": []
   },
   "outputs": [
    {
     "name": "stderr",
     "output_type": "stream",
     "text": [
      "/opt/conda/lib/python3.10/site-packages/xgboost/core.py:160: UserWarning: [04:37:15] WARNING: /workspace/src/learner.cc:742: \n",
      "Parameters: { \"class_weight\", \"scale_pos_weight\" } are not used.\n",
      "\n",
      "  warnings.warn(smsg, UserWarning)\n"
     ]
    },
    {
     "data": {
      "text/html": [
       "<style>#sk-container-id-2 {color: black;background-color: white;}#sk-container-id-2 pre{padding: 0;}#sk-container-id-2 div.sk-toggleable {background-color: white;}#sk-container-id-2 label.sk-toggleable__label {cursor: pointer;display: block;width: 100%;margin-bottom: 0;padding: 0.3em;box-sizing: border-box;text-align: center;}#sk-container-id-2 label.sk-toggleable__label-arrow:before {content: \"▸\";float: left;margin-right: 0.25em;color: #696969;}#sk-container-id-2 label.sk-toggleable__label-arrow:hover:before {color: black;}#sk-container-id-2 div.sk-estimator:hover label.sk-toggleable__label-arrow:before {color: black;}#sk-container-id-2 div.sk-toggleable__content {max-height: 0;max-width: 0;overflow: hidden;text-align: left;background-color: #f0f8ff;}#sk-container-id-2 div.sk-toggleable__content pre {margin: 0.2em;color: black;border-radius: 0.25em;background-color: #f0f8ff;}#sk-container-id-2 input.sk-toggleable__control:checked~div.sk-toggleable__content {max-height: 200px;max-width: 100%;overflow: auto;}#sk-container-id-2 input.sk-toggleable__control:checked~label.sk-toggleable__label-arrow:before {content: \"▾\";}#sk-container-id-2 div.sk-estimator input.sk-toggleable__control:checked~label.sk-toggleable__label {background-color: #d4ebff;}#sk-container-id-2 div.sk-label input.sk-toggleable__control:checked~label.sk-toggleable__label {background-color: #d4ebff;}#sk-container-id-2 input.sk-hidden--visually {border: 0;clip: rect(1px 1px 1px 1px);clip: rect(1px, 1px, 1px, 1px);height: 1px;margin: -1px;overflow: hidden;padding: 0;position: absolute;width: 1px;}#sk-container-id-2 div.sk-estimator {font-family: monospace;background-color: #f0f8ff;border: 1px dotted black;border-radius: 0.25em;box-sizing: border-box;margin-bottom: 0.5em;}#sk-container-id-2 div.sk-estimator:hover {background-color: #d4ebff;}#sk-container-id-2 div.sk-parallel-item::after {content: \"\";width: 100%;border-bottom: 1px solid gray;flex-grow: 1;}#sk-container-id-2 div.sk-label:hover label.sk-toggleable__label {background-color: #d4ebff;}#sk-container-id-2 div.sk-serial::before {content: \"\";position: absolute;border-left: 1px solid gray;box-sizing: border-box;top: 0;bottom: 0;left: 50%;z-index: 0;}#sk-container-id-2 div.sk-serial {display: flex;flex-direction: column;align-items: center;background-color: white;padding-right: 0.2em;padding-left: 0.2em;position: relative;}#sk-container-id-2 div.sk-item {position: relative;z-index: 1;}#sk-container-id-2 div.sk-parallel {display: flex;align-items: stretch;justify-content: center;background-color: white;position: relative;}#sk-container-id-2 div.sk-item::before, #sk-container-id-2 div.sk-parallel-item::before {content: \"\";position: absolute;border-left: 1px solid gray;box-sizing: border-box;top: 0;bottom: 0;left: 50%;z-index: -1;}#sk-container-id-2 div.sk-parallel-item {display: flex;flex-direction: column;z-index: 1;position: relative;background-color: white;}#sk-container-id-2 div.sk-parallel-item:first-child::after {align-self: flex-end;width: 50%;}#sk-container-id-2 div.sk-parallel-item:last-child::after {align-self: flex-start;width: 50%;}#sk-container-id-2 div.sk-parallel-item:only-child::after {width: 0;}#sk-container-id-2 div.sk-dashed-wrapped {border: 1px dashed gray;margin: 0 0.4em 0.5em 0.4em;box-sizing: border-box;padding-bottom: 0.4em;background-color: white;}#sk-container-id-2 div.sk-label label {font-family: monospace;font-weight: bold;display: inline-block;line-height: 1.2em;}#sk-container-id-2 div.sk-label-container {text-align: center;}#sk-container-id-2 div.sk-container {/* jupyter's `normalize.less` sets `[hidden] { display: none; }` but bootstrap.min.css set `[hidden] { display: none !important; }` so we also need the `!important` here to be able to override the default hidden behavior on the sphinx rendered scikit-learn.org. See: https://github.com/scikit-learn/scikit-learn/issues/21755 */display: inline-block !important;position: relative;}#sk-container-id-2 div.sk-text-repr-fallback {display: none;}</style><div id=\"sk-container-id-2\" class=\"sk-top-container\"><div class=\"sk-text-repr-fallback\"><pre>Pipeline(steps=[(&#x27;trans&#x27;,\n",
       "                 ColumnTransformer(transformers=[(&#x27;minmax&#x27;, MinMaxScaler(),\n",
       "                                                  [&#x27;RecipeNumber&#x27;, &#x27;BestScore&#x27;,\n",
       "                                                   &#x27;UserReputation&#x27;,\n",
       "                                                   &#x27;ThumbsUpCount&#x27;,\n",
       "                                                   &#x27;ThumbsDownCount&#x27;, &#x27;day&#x27;,\n",
       "                                                   &#x27;time&#x27;, &#x27;ReplyCount&#x27;]),\n",
       "                                                 (&#x27;ohe&#x27;, OneHotEncoder(),\n",
       "                                                  [&#x27;RecipeCode&#x27;]),\n",
       "                                                 (&#x27;tfidf&#x27;,\n",
       "                                                  TfidfVectorizer(max_features=2500,\n",
       "                                                                  ngram_range=(1,\n",
       "                                                                               3)),\n",
       "                                                  &#x27;Cleaned&#x27;),\n",
       "                                                 (&#x27;tfidf2&#x27;, TfidfVectorizer(),\n",
       "                                                  &#x27;RecipeName&#x27;)])),\n",
       "                (&#x27;xg...\n",
       "                               eval_metric=None, feature_types=None, gamma=0.3,\n",
       "                               grow_policy=None, importance_type=None,\n",
       "                               interaction_constraints=None, learning_rate=None,\n",
       "                               max_bin=None, max_cat_threshold=None,\n",
       "                               max_cat_to_onehot=None, max_delta_step=None,\n",
       "                               max_depth=7, max_leaves=None, min_child_weight=3,\n",
       "                               missing=nan, monotone_constraints=None,\n",
       "                               multi_strategy=None, n_estimators=None,\n",
       "                               n_jobs=None, ...))])</pre><b>In a Jupyter environment, please rerun this cell to show the HTML representation or trust the notebook. <br />On GitHub, the HTML representation is unable to render, please try loading this page with nbviewer.org.</b></div><div class=\"sk-container\" hidden><div class=\"sk-item sk-dashed-wrapped\"><div class=\"sk-label-container\"><div class=\"sk-label sk-toggleable\"><input class=\"sk-toggleable__control sk-hidden--visually\" id=\"sk-estimator-id-13\" type=\"checkbox\" ><label for=\"sk-estimator-id-13\" class=\"sk-toggleable__label sk-toggleable__label-arrow\">Pipeline</label><div class=\"sk-toggleable__content\"><pre>Pipeline(steps=[(&#x27;trans&#x27;,\n",
       "                 ColumnTransformer(transformers=[(&#x27;minmax&#x27;, MinMaxScaler(),\n",
       "                                                  [&#x27;RecipeNumber&#x27;, &#x27;BestScore&#x27;,\n",
       "                                                   &#x27;UserReputation&#x27;,\n",
       "                                                   &#x27;ThumbsUpCount&#x27;,\n",
       "                                                   &#x27;ThumbsDownCount&#x27;, &#x27;day&#x27;,\n",
       "                                                   &#x27;time&#x27;, &#x27;ReplyCount&#x27;]),\n",
       "                                                 (&#x27;ohe&#x27;, OneHotEncoder(),\n",
       "                                                  [&#x27;RecipeCode&#x27;]),\n",
       "                                                 (&#x27;tfidf&#x27;,\n",
       "                                                  TfidfVectorizer(max_features=2500,\n",
       "                                                                  ngram_range=(1,\n",
       "                                                                               3)),\n",
       "                                                  &#x27;Cleaned&#x27;),\n",
       "                                                 (&#x27;tfidf2&#x27;, TfidfVectorizer(),\n",
       "                                                  &#x27;RecipeName&#x27;)])),\n",
       "                (&#x27;xg...\n",
       "                               eval_metric=None, feature_types=None, gamma=0.3,\n",
       "                               grow_policy=None, importance_type=None,\n",
       "                               interaction_constraints=None, learning_rate=None,\n",
       "                               max_bin=None, max_cat_threshold=None,\n",
       "                               max_cat_to_onehot=None, max_delta_step=None,\n",
       "                               max_depth=7, max_leaves=None, min_child_weight=3,\n",
       "                               missing=nan, monotone_constraints=None,\n",
       "                               multi_strategy=None, n_estimators=None,\n",
       "                               n_jobs=None, ...))])</pre></div></div></div><div class=\"sk-serial\"><div class=\"sk-item sk-dashed-wrapped\"><div class=\"sk-label-container\"><div class=\"sk-label sk-toggleable\"><input class=\"sk-toggleable__control sk-hidden--visually\" id=\"sk-estimator-id-14\" type=\"checkbox\" ><label for=\"sk-estimator-id-14\" class=\"sk-toggleable__label sk-toggleable__label-arrow\">trans: ColumnTransformer</label><div class=\"sk-toggleable__content\"><pre>ColumnTransformer(transformers=[(&#x27;minmax&#x27;, MinMaxScaler(),\n",
       "                                 [&#x27;RecipeNumber&#x27;, &#x27;BestScore&#x27;, &#x27;UserReputation&#x27;,\n",
       "                                  &#x27;ThumbsUpCount&#x27;, &#x27;ThumbsDownCount&#x27;, &#x27;day&#x27;,\n",
       "                                  &#x27;time&#x27;, &#x27;ReplyCount&#x27;]),\n",
       "                                (&#x27;ohe&#x27;, OneHotEncoder(), [&#x27;RecipeCode&#x27;]),\n",
       "                                (&#x27;tfidf&#x27;,\n",
       "                                 TfidfVectorizer(max_features=2500,\n",
       "                                                 ngram_range=(1, 3)),\n",
       "                                 &#x27;Cleaned&#x27;),\n",
       "                                (&#x27;tfidf2&#x27;, TfidfVectorizer(), &#x27;RecipeName&#x27;)])</pre></div></div></div><div class=\"sk-parallel\"><div class=\"sk-parallel-item\"><div class=\"sk-item\"><div class=\"sk-label-container\"><div class=\"sk-label sk-toggleable\"><input class=\"sk-toggleable__control sk-hidden--visually\" id=\"sk-estimator-id-15\" type=\"checkbox\" ><label for=\"sk-estimator-id-15\" class=\"sk-toggleable__label sk-toggleable__label-arrow\">minmax</label><div class=\"sk-toggleable__content\"><pre>[&#x27;RecipeNumber&#x27;, &#x27;BestScore&#x27;, &#x27;UserReputation&#x27;, &#x27;ThumbsUpCount&#x27;, &#x27;ThumbsDownCount&#x27;, &#x27;day&#x27;, &#x27;time&#x27;, &#x27;ReplyCount&#x27;]</pre></div></div></div><div class=\"sk-serial\"><div class=\"sk-item\"><div class=\"sk-estimator sk-toggleable\"><input class=\"sk-toggleable__control sk-hidden--visually\" id=\"sk-estimator-id-16\" type=\"checkbox\" ><label for=\"sk-estimator-id-16\" class=\"sk-toggleable__label sk-toggleable__label-arrow\">MinMaxScaler</label><div class=\"sk-toggleable__content\"><pre>MinMaxScaler()</pre></div></div></div></div></div></div><div class=\"sk-parallel-item\"><div class=\"sk-item\"><div class=\"sk-label-container\"><div class=\"sk-label sk-toggleable\"><input class=\"sk-toggleable__control sk-hidden--visually\" id=\"sk-estimator-id-17\" type=\"checkbox\" ><label for=\"sk-estimator-id-17\" class=\"sk-toggleable__label sk-toggleable__label-arrow\">ohe</label><div class=\"sk-toggleable__content\"><pre>[&#x27;RecipeCode&#x27;]</pre></div></div></div><div class=\"sk-serial\"><div class=\"sk-item\"><div class=\"sk-estimator sk-toggleable\"><input class=\"sk-toggleable__control sk-hidden--visually\" id=\"sk-estimator-id-18\" type=\"checkbox\" ><label for=\"sk-estimator-id-18\" class=\"sk-toggleable__label sk-toggleable__label-arrow\">OneHotEncoder</label><div class=\"sk-toggleable__content\"><pre>OneHotEncoder()</pre></div></div></div></div></div></div><div class=\"sk-parallel-item\"><div class=\"sk-item\"><div class=\"sk-label-container\"><div class=\"sk-label sk-toggleable\"><input class=\"sk-toggleable__control sk-hidden--visually\" id=\"sk-estimator-id-19\" type=\"checkbox\" ><label for=\"sk-estimator-id-19\" class=\"sk-toggleable__label sk-toggleable__label-arrow\">tfidf</label><div class=\"sk-toggleable__content\"><pre>Cleaned</pre></div></div></div><div class=\"sk-serial\"><div class=\"sk-item\"><div class=\"sk-estimator sk-toggleable\"><input class=\"sk-toggleable__control sk-hidden--visually\" id=\"sk-estimator-id-20\" type=\"checkbox\" ><label for=\"sk-estimator-id-20\" class=\"sk-toggleable__label sk-toggleable__label-arrow\">TfidfVectorizer</label><div class=\"sk-toggleable__content\"><pre>TfidfVectorizer(max_features=2500, ngram_range=(1, 3))</pre></div></div></div></div></div></div><div class=\"sk-parallel-item\"><div class=\"sk-item\"><div class=\"sk-label-container\"><div class=\"sk-label sk-toggleable\"><input class=\"sk-toggleable__control sk-hidden--visually\" id=\"sk-estimator-id-21\" type=\"checkbox\" ><label for=\"sk-estimator-id-21\" class=\"sk-toggleable__label sk-toggleable__label-arrow\">tfidf2</label><div class=\"sk-toggleable__content\"><pre>RecipeName</pre></div></div></div><div class=\"sk-serial\"><div class=\"sk-item\"><div class=\"sk-estimator sk-toggleable\"><input class=\"sk-toggleable__control sk-hidden--visually\" id=\"sk-estimator-id-22\" type=\"checkbox\" ><label for=\"sk-estimator-id-22\" class=\"sk-toggleable__label sk-toggleable__label-arrow\">TfidfVectorizer</label><div class=\"sk-toggleable__content\"><pre>TfidfVectorizer()</pre></div></div></div></div></div></div></div></div><div class=\"sk-item\"><div class=\"sk-estimator sk-toggleable\"><input class=\"sk-toggleable__control sk-hidden--visually\" id=\"sk-estimator-id-23\" type=\"checkbox\" ><label for=\"sk-estimator-id-23\" class=\"sk-toggleable__label sk-toggleable__label-arrow\">XGBClassifier</label><div class=\"sk-toggleable__content\"><pre>XGBClassifier(base_score=None, booster=None, callbacks=None,\n",
       "              class_weight=&#x27;None&#x27;, colsample_bylevel=None,\n",
       "              colsample_bynode=None, colsample_bytree=0.6, device=None,\n",
       "              early_stopping_rounds=None, enable_categorical=False, eta=0.1,\n",
       "              eval_metric=None, feature_types=None, gamma=0.3, grow_policy=None,\n",
       "              importance_type=None, interaction_constraints=None,\n",
       "              learning_rate=None, max_bin=None, max_cat_threshold=None,\n",
       "              max_cat_to_onehot=None, max_delta_step=None, max_depth=7,\n",
       "              max_leaves=None, min_child_weight=3, missing=nan,\n",
       "              monotone_constraints=None, multi_strategy=None, n_estimators=None,\n",
       "              n_jobs=None, ...)</pre></div></div></div></div></div></div></div>"
      ],
      "text/plain": [
       "Pipeline(steps=[('trans',\n",
       "                 ColumnTransformer(transformers=[('minmax', MinMaxScaler(),\n",
       "                                                  ['RecipeNumber', 'BestScore',\n",
       "                                                   'UserReputation',\n",
       "                                                   'ThumbsUpCount',\n",
       "                                                   'ThumbsDownCount', 'day',\n",
       "                                                   'time', 'ReplyCount']),\n",
       "                                                 ('ohe', OneHotEncoder(),\n",
       "                                                  ['RecipeCode']),\n",
       "                                                 ('tfidf',\n",
       "                                                  TfidfVectorizer(max_features=2500,\n",
       "                                                                  ngram_range=(1,\n",
       "                                                                               3)),\n",
       "                                                  'Cleaned'),\n",
       "                                                 ('tfidf2', TfidfVectorizer(),\n",
       "                                                  'RecipeName')])),\n",
       "                ('xg...\n",
       "                               eval_metric=None, feature_types=None, gamma=0.3,\n",
       "                               grow_policy=None, importance_type=None,\n",
       "                               interaction_constraints=None, learning_rate=None,\n",
       "                               max_bin=None, max_cat_threshold=None,\n",
       "                               max_cat_to_onehot=None, max_delta_step=None,\n",
       "                               max_depth=7, max_leaves=None, min_child_weight=3,\n",
       "                               missing=nan, monotone_constraints=None,\n",
       "                               multi_strategy=None, n_estimators=None,\n",
       "                               n_jobs=None, ...))])"
      ]
     },
     "execution_count": 58,
     "metadata": {},
     "output_type": "execute_result"
    }
   ],
   "source": [
    "model = XGBClassifier(objective ='binary:logistic',num_class= 6,class_weight= 'None',eta =0.1,max_depth=7,min_child_weight =3,gamma =0.3,scale_pos_weight =1,subsample =0.8,\n",
    " colsample_bytree=0.6)\n",
    "pipe = Pipeline([('trans',colt),('xgb',model)])\n",
    "pipe.fit(x,y)"
   ]
  },
  {
   "cell_type": "markdown",
   "id": "5e8c40c3",
   "metadata": {
    "papermill": {
     "duration": 0.020804,
     "end_time": "2024-04-01T04:37:53.370047",
     "exception": false,
     "start_time": "2024-04-01T04:37:53.349243",
     "status": "completed"
    },
    "tags": []
   },
   "source": [
    "# Testing"
   ]
  },
  {
   "cell_type": "code",
   "execution_count": 59,
   "id": "5c017999",
   "metadata": {
    "execution": {
     "iopub.execute_input": "2024-04-01T04:37:53.414662Z",
     "iopub.status.busy": "2024-04-01T04:37:53.413922Z",
     "iopub.status.idle": "2024-04-01T04:37:54.373785Z",
     "shell.execute_reply": "2024-04-01T04:37:54.373026Z"
    },
    "papermill": {
     "duration": 0.985095,
     "end_time": "2024-04-01T04:37:54.376187",
     "exception": false,
     "start_time": "2024-04-01T04:37:53.391092",
     "status": "completed"
    },
    "tags": []
   },
   "outputs": [],
   "source": [
    "testdf['Date'] = testdf['CreationTimestamp'].apply(lambda x: pd.Timestamp(x,unit='s'))\n",
    "testdf['day'] = testdf['Date'].apply(lambda x : x.day)\n",
    "testdf['month'] = testdf['Date'].apply(lambda x : x.month)\n",
    "testdf['yeay'] = testdf['Date'].apply(lambda x : x.year)\n",
    "testdf['time'] = testdf['Date'].apply(lambda x : x.time().hour)\n",
    "testdf['dow'] = testdf['Date'].apply(lambda x : x.weekday())\n",
    "testdf['Cleaned'] = testdf['Recipe_Review'].apply(lambda x: clean(str(x)))\n",
    "testdf.drop('Recipe_Review',axis=1,inplace=True)\n",
    "pred = gs1a.best_estimator_.predict(testdf)\n",
    "pd.DataFrame(pred)\n",
    "f = pd.DataFrame({'ID': np.arange(1,4547),'Rating' : pred})\n",
    "f.to_csv('/kaggle/working/submission.csv',index=False)"
   ]
  },
  {
   "cell_type": "code",
   "execution_count": 60,
   "id": "98eb828d",
   "metadata": {
    "execution": {
     "iopub.execute_input": "2024-04-01T04:37:54.420706Z",
     "iopub.status.busy": "2024-04-01T04:37:54.420126Z",
     "iopub.status.idle": "2024-04-01T04:37:54.427999Z",
     "shell.execute_reply": "2024-04-01T04:37:54.427017Z"
    },
    "papermill": {
     "duration": 0.032344,
     "end_time": "2024-04-01T04:37:54.429861",
     "exception": false,
     "start_time": "2024-04-01T04:37:54.397517",
     "status": "completed"
    },
    "tags": []
   },
   "outputs": [
    {
     "data": {
      "text/plain": [
       "Rating\n",
       "5    4364\n",
       "0      76\n",
       "4      46\n",
       "1      30\n",
       "3      26\n",
       "2       4\n",
       "Name: count, dtype: int64"
      ]
     },
     "execution_count": 60,
     "metadata": {},
     "output_type": "execute_result"
    }
   ],
   "source": [
    "f['Rating'].value_counts()"
   ]
  },
  {
   "cell_type": "code",
   "execution_count": null,
   "id": "d5865066",
   "metadata": {
    "papermill": {
     "duration": 0.020563,
     "end_time": "2024-04-01T04:37:54.471427",
     "exception": false,
     "start_time": "2024-04-01T04:37:54.450864",
     "status": "completed"
    },
    "tags": []
   },
   "outputs": [],
   "source": []
  }
 ],
 "metadata": {
  "kaggle": {
   "accelerator": "none",
   "dataSources": [
    {
     "databundleVersionId": 7452256,
     "sourceId": 67079,
     "sourceType": "competition"
    }
   ],
   "dockerImageVersionId": 30673,
   "isGpuEnabled": false,
   "isInternetEnabled": true,
   "language": "python",
   "sourceType": "notebook"
  },
  "kernelspec": {
   "display_name": "Python 3",
   "language": "python",
   "name": "python3"
  },
  "language_info": {
   "codemirror_mode": {
    "name": "ipython",
    "version": 3
   },
   "file_extension": ".py",
   "mimetype": "text/x-python",
   "name": "python",
   "nbconvert_exporter": "python",
   "pygments_lexer": "ipython3",
   "version": "3.10.13"
  },
  "papermill": {
   "default_parameters": {},
   "duration": 276.236827,
   "end_time": "2024-04-01T04:37:55.314425",
   "environment_variables": {},
   "exception": null,
   "input_path": "__notebook__.ipynb",
   "output_path": "__notebook__.ipynb",
   "parameters": {},
   "start_time": "2024-04-01T04:33:19.077598",
   "version": "2.5.0"
  }
 },
 "nbformat": 4,
 "nbformat_minor": 5
}
